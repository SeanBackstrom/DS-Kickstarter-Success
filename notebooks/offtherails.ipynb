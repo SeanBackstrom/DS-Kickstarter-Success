{
 "metadata": {
  "language_info": {
   "codemirror_mode": {
    "name": "ipython",
    "version": 3
   },
   "file_extension": ".py",
   "mimetype": "text/x-python",
   "name": "python",
   "nbconvert_exporter": "python",
   "pygments_lexer": "ipython3",
   "version": "3.7.0-final"
  },
  "orig_nbformat": 2,
  "kernelspec": {
   "name": "python_defaultSpec_1598546952047",
   "display_name": "Python 3.7.0 64-bit ('U4-S1-NLP': conda)"
  }
 },
 "nbformat": 4,
 "nbformat_minor": 2,
 "cells": [
  {
   "cell_type": "code",
   "execution_count": 1,
   "metadata": {
    "tags": []
   },
   "outputs": [],
   "source": [
    "import pandas as pd \n",
    "import numpy as np\n",
    "import matplotlib.pyplot as plt\n",
    "from sklearn.model_selection import train_test_split\n",
    "from sklearn.feature_extraction.text import CountVectorizer\n",
    "from sklearn.pipeline import Pipeline\n",
    "from sklearn.metrics import accuracy_score, recall_score, plot_confusion_matrix\n",
    "from sklearn.linear_model import LogisticRegression\n"
   ]
  },
  {
   "cell_type": "markdown",
   "metadata": {},
   "source": [
    "# Prepare data for model"
   ]
  },
  {
   "cell_type": "code",
   "execution_count": 2,
   "metadata": {},
   "outputs": [],
   "source": [
    "df = pd.read_csv('data\\kickstarter_data_with_features.csv',index_col=0)\n",
    "\n"
   ]
  },
  {
   "cell_type": "code",
   "execution_count": 3,
   "metadata": {},
   "outputs": [],
   "source": [
    "#These are the only columns we can use as input\n",
    "df = df[['name', 'goal', 'blurb', 'launched_at', 'deadline','category','state', 'country']]"
   ]
  },
  {
   "cell_type": "code",
   "execution_count": 4,
   "metadata": {},
   "outputs": [],
   "source": [
    "#filter out all countries not english-speaking\n",
    "english_countries = ['US', 'IE', 'GB', 'AU', 'CA', 'NZ', ]\n",
    "df= df[df['country'].isin(english_countries)]"
   ]
  },
  {
   "cell_type": "code",
   "execution_count": 5,
   "metadata": {},
   "outputs": [],
   "source": [
    "#create 'success'filter which only shows failed or success and cuts out other options\n",
    "suc_filt = ['failed', 'successful']\n",
    "df = df[df['state'].isin(suc_filt)]\n",
    "# Convert fail or succuess to 0 or 1\n",
    "df['state'] = df['state'].replace({'failed': 0, 'successful': 1})"
   ]
  },
  {
   "cell_type": "code",
   "execution_count": 6,
   "metadata": {},
   "outputs": [],
   "source": [
    "#Two seperate dataframes are created below, one of only success and one of only fail\n",
    "faileddf = df[df['state'] == 0]\n",
    "sucdf = df[df['state'] == 1]"
   ]
  },
  {
   "cell_type": "code",
   "execution_count": 7,
   "metadata": {},
   "outputs": [
    {
     "output_type": "execute_result",
     "data": {
      "text/plain": "0.5578593996840442"
     },
     "metadata": {},
     "execution_count": 7
    }
   ],
   "source": [
    "#Baseline prediction\n",
    "failed = len(faileddf)\n",
    "suc = len(sucdf)\n",
    "\n",
    "suc / failed"
   ]
  },
  {
   "cell_type": "markdown",
   "metadata": {},
   "source": [
    "## Create NLP Pipeline"
   ]
  },
  {
   "cell_type": "code",
   "execution_count": 8,
   "metadata": {},
   "outputs": [],
   "source": [
    "columns = ['name','blurb', 'state']\n",
    "\n",
    "to_df = df.copy()\n",
    "\n",
    "to_df = to_df[columns]"
   ]
  },
  {
   "cell_type": "code",
   "execution_count": 9,
   "metadata": {},
   "outputs": [],
   "source": [
    "to_df.fillna(' ', inplace=True)"
   ]
  },
  {
   "cell_type": "code",
   "execution_count": 10,
   "metadata": {},
   "outputs": [],
   "source": [
    "to_df['text']=to_df['name']+' '+to_df['blurb']"
   ]
  },
  {
   "cell_type": "code",
   "execution_count": null,
   "metadata": {},
   "outputs": [],
   "source": []
  },
  {
   "cell_type": "markdown",
   "metadata": {},
   "source": [
    "# NLP"
   ]
  },
  {
   "cell_type": "code",
   "execution_count": 11,
   "metadata": {},
   "outputs": [],
   "source": [
    "train, test = train_test_split(to_df, train_size=0.80, test_size=0.20, \n",
    "                                stratify= to_df['state'], random_state=3)\n",
    "\n",
    "train, val = train_test_split(train, train_size=0.80, test_size=0.20, \n",
    "                                stratify= train['state'], random_state=3)"
   ]
  },
  {
   "cell_type": "code",
   "execution_count": 12,
   "metadata": {},
   "outputs": [],
   "source": [
    "features = 'text'\n",
    "target = 'state'"
   ]
  },
  {
   "cell_type": "code",
   "execution_count": 13,
   "metadata": {},
   "outputs": [],
   "source": [
    "X_train = train[features]\n",
    "X_val = val[features]\n",
    "X_test = test[features]\n",
    "y_train = train[target]\n",
    "y_val = val[target]\n",
    "y_test = test[target]"
   ]
  },
  {
   "cell_type": "code",
   "execution_count": 14,
   "metadata": {
    "tags": []
   },
   "outputs": [
    {
     "output_type": "execute_result",
     "data": {
      "text/plain": "'\\nvect = CountVectorizer(stop_words=\\'english\\', ngram_range=(1,3))\\n\\nlrm = xgb.XGBClassifier(n_jobs=-1, max_depth=150)\\npipe = Pipeline([\\n                 #Vectorizer\\n                 (\\'vect\\', vect),\\n                 # Classifier\\n                 (\\'clf\\', lrm)\\n                ])\\npipe.fit(X_train, y_train)\\n# Predicting with a test dataset\\nxgpredicted = pipe.predict(X_val)\\n\\nprint(\"Classifier Accuracy:\", accuracy_score(y_val, xgpredicted))\\nprint(\"Classifier Recall:\", recall_score(y_val, xgpredicted))\\n'"
     },
     "metadata": {},
     "execution_count": 14
    }
   ],
   "source": [
    "from sklearn.pipeline import Pipeline\n",
    "from sklearn.feature_extraction.text import CountVectorizer\n",
    "from sklearn.linear_model import LogisticRegression\n",
    "from sklearn.externals import joblib\n",
    "import xgboost as xgb\n",
    "\"\"\"\n",
    "vect = CountVectorizer(stop_words='english', ngram_range=(1,3))\n",
    "\n",
    "lrm = xgb.XGBClassifier(n_jobs=-1, max_depth=150)\n",
    "pipe = Pipeline([\n",
    "                 #Vectorizer\n",
    "                 ('vect', vect),\n",
    "                 # Classifier\n",
    "                 ('clf', lrm)\n",
    "                ])\n",
    "pipe.fit(X_train, y_train)\n",
    "# Predicting with a test dataset\n",
    "xgpredicted = pipe.predict(X_val)\n",
    "\n",
    "print(\"Classifier Accuracy:\", accuracy_score(y_val, xgpredicted))\n",
    "print(\"Classifier Recall:\", recall_score(y_val, xgpredicted))\n",
    "\"\"\"\n",
    "#joblib.dump(pipe, 'woops.pkl')\n"
   ]
  },
  {
   "cell_type": "code",
   "execution_count": 15,
   "metadata": {},
   "outputs": [
    {
     "output_type": "execute_result",
     "data": {
      "text/plain": "\"plot_confusion_matrix(pipe, X_val, y_val, cmap='Greens', values_format=' ')\\nplt.grid(False)\""
     },
     "metadata": {},
     "execution_count": 15
    }
   ],
   "source": [
    "\"\"\"plot_confusion_matrix(pipe, X_val, y_val, cmap='Greens', values_format=' ')\n",
    "plt.grid(False)\"\"\""
   ]
  },
  {
   "cell_type": "markdown",
   "metadata": {},
   "source": [
    "## New pipeline for non text"
   ]
  },
  {
   "cell_type": "code",
   "execution_count": 16,
   "metadata": {},
   "outputs": [],
   "source": [
    "from sklearn.preprocessing import LabelEncoder\n",
    "from datetime import datetime, timedelta"
   ]
  },
  {
   "cell_type": "code",
   "execution_count": 17,
   "metadata": {},
   "outputs": [],
   "source": [
    "df_nt = df[['goal', 'launched_at', 'deadline', 'country', 'state']]"
   ]
  },
  {
   "cell_type": "code",
   "execution_count": 18,
   "metadata": {},
   "outputs": [],
   "source": [
    "#convert time columns to campaign length\n",
    "df['deadline'] = df['deadline'].str[:10]\n",
    "df['launched_at'] = df['launched_at'].str[:10]\n",
    "df_nt['deadline'] = pd.to_datetime(df_nt['deadline'], format=\"%Y/%m/%d\")\n",
    "df_nt['launched_at'] = pd.to_datetime(df_nt['launched_at'], format=\"%Y/%m/%d\")\n",
    "\n",
    "df['deadline'] = pd.to_datetime(df['deadline'], format=\"%Y/%m/%d\")\n",
    "df['launched_at'] = pd.to_datetime(df['launched_at'], format=\"%Y/%m/%d\")\n",
    "#create new column\n",
    "df_nt['cam_length'] = df_nt['deadline'] - df_nt['launched_at']\n",
    "df['cam_length'] = df['deadline'] - df['launched_at']\n"
   ]
  },
  {
   "cell_type": "code",
   "execution_count": 19,
   "metadata": {},
   "outputs": [],
   "source": [
    "#encode categorical columns\n",
    "\n",
    "lb_make = LabelEncoder()\n",
    "#df_nt[\"cam_length\"] = lb_make.fit_transform(df_nt[\"cam_length\"])\n",
    "df[\"cam_length\"] = lb_make.fit_transform(df[\"cam_length\"])"
   ]
  },
  {
   "cell_type": "code",
   "execution_count": 20,
   "metadata": {},
   "outputs": [],
   "source": [
    "df_nt = df_nt[['goal', 'cam_length', 'state']]"
   ]
  },
  {
   "cell_type": "code",
   "execution_count": 21,
   "metadata": {},
   "outputs": [
    {
     "output_type": "execute_result",
     "data": {
      "text/plain": "                                                    name      goal  \\\n0      Auntie Di's Music Time Sign ASL for Hearing an...    1500.0   \n1                        Jump Start Kindergarten Toolkit     500.0   \n2      Ojukwu Balewa Awolowo (O.B.A.) Public Library ...  100000.0   \n3          MASTIZE - [mas-TAHYZ, MAS-tahyz]  - to spread    5000.0   \n5      Shadow School Board - Reforming Texas School B...   13000.0   \n...                                                  ...       ...   \n20625            Private.Center - Private Social Network   20000.0   \n20626  Pathfinder Adventure Card Game Character Track...    5000.0   \n20629                                     Sloth Face App   10000.0   \n20630                                        DriverTools    2500.0   \n20631                                    Let's Trail app   50000.0   \n\n                                                   blurb launched_at  \\\n0      MTS ASL Curriculum Workbook is a reproducible ...  2014-12-17   \n1      This kit teaches how to print, correct an ugly...  2015-03-02   \n2      Establishing a free, world-class, public libra...  2015-01-25   \n3      Goal: Introducing a new word into the English ...  2014-09-06   \n5      Shadow School Board will provide parents & tax...  2015-10-21   \n...                                                  ...         ...   \n20625  Private.Center - the Private Social Network is...  2015-12-17   \n20626  A companion app for the Pathfinder Adventure C...  2016-05-26   \n20629  We all love fatbooth and Ugly booth, why not s...  2015-02-13   \n20630  Production android app for cab drivers and tru...  2015-04-20   \n20631  We recently launched version 1 of our unique t...  2014-10-21   \n\n        deadline  category  state country  cam_length  \n0     2015-01-23  Academic      0      US          36  \n1     2015-05-01  Academic      0      US          59  \n2     2015-03-26  Academic      0      US          59  \n3     2014-10-06  Academic      0      US          29  \n5     2015-11-20  Academic      0      US          29  \n...          ...       ...    ...     ...         ...  \n20625 2016-02-15      Apps      0      GB          59  \n20626 2016-07-01      Apps      0      AU          35  \n20629 2015-04-14      Apps      0      US          59  \n20630 2015-05-20      Apps      0      US          29  \n20631 2014-11-20      Apps      0      IE          29  \n\n[15778 rows x 9 columns]",
      "text/html": "<div>\n<style scoped>\n    .dataframe tbody tr th:only-of-type {\n        vertical-align: middle;\n    }\n\n    .dataframe tbody tr th {\n        vertical-align: top;\n    }\n\n    .dataframe thead th {\n        text-align: right;\n    }\n</style>\n<table border=\"1\" class=\"dataframe\">\n  <thead>\n    <tr style=\"text-align: right;\">\n      <th></th>\n      <th>name</th>\n      <th>goal</th>\n      <th>blurb</th>\n      <th>launched_at</th>\n      <th>deadline</th>\n      <th>category</th>\n      <th>state</th>\n      <th>country</th>\n      <th>cam_length</th>\n    </tr>\n  </thead>\n  <tbody>\n    <tr>\n      <th>0</th>\n      <td>Auntie Di's Music Time Sign ASL for Hearing an...</td>\n      <td>1500.0</td>\n      <td>MTS ASL Curriculum Workbook is a reproducible ...</td>\n      <td>2014-12-17</td>\n      <td>2015-01-23</td>\n      <td>Academic</td>\n      <td>0</td>\n      <td>US</td>\n      <td>36</td>\n    </tr>\n    <tr>\n      <th>1</th>\n      <td>Jump Start Kindergarten Toolkit</td>\n      <td>500.0</td>\n      <td>This kit teaches how to print, correct an ugly...</td>\n      <td>2015-03-02</td>\n      <td>2015-05-01</td>\n      <td>Academic</td>\n      <td>0</td>\n      <td>US</td>\n      <td>59</td>\n    </tr>\n    <tr>\n      <th>2</th>\n      <td>Ojukwu Balewa Awolowo (O.B.A.) Public Library ...</td>\n      <td>100000.0</td>\n      <td>Establishing a free, world-class, public libra...</td>\n      <td>2015-01-25</td>\n      <td>2015-03-26</td>\n      <td>Academic</td>\n      <td>0</td>\n      <td>US</td>\n      <td>59</td>\n    </tr>\n    <tr>\n      <th>3</th>\n      <td>MASTIZE - [mas-TAHYZ, MAS-tahyz]  - to spread</td>\n      <td>5000.0</td>\n      <td>Goal: Introducing a new word into the English ...</td>\n      <td>2014-09-06</td>\n      <td>2014-10-06</td>\n      <td>Academic</td>\n      <td>0</td>\n      <td>US</td>\n      <td>29</td>\n    </tr>\n    <tr>\n      <th>5</th>\n      <td>Shadow School Board - Reforming Texas School B...</td>\n      <td>13000.0</td>\n      <td>Shadow School Board will provide parents &amp; tax...</td>\n      <td>2015-10-21</td>\n      <td>2015-11-20</td>\n      <td>Academic</td>\n      <td>0</td>\n      <td>US</td>\n      <td>29</td>\n    </tr>\n    <tr>\n      <th>...</th>\n      <td>...</td>\n      <td>...</td>\n      <td>...</td>\n      <td>...</td>\n      <td>...</td>\n      <td>...</td>\n      <td>...</td>\n      <td>...</td>\n      <td>...</td>\n    </tr>\n    <tr>\n      <th>20625</th>\n      <td>Private.Center - Private Social Network</td>\n      <td>20000.0</td>\n      <td>Private.Center - the Private Social Network is...</td>\n      <td>2015-12-17</td>\n      <td>2016-02-15</td>\n      <td>Apps</td>\n      <td>0</td>\n      <td>GB</td>\n      <td>59</td>\n    </tr>\n    <tr>\n      <th>20626</th>\n      <td>Pathfinder Adventure Card Game Character Track...</td>\n      <td>5000.0</td>\n      <td>A companion app for the Pathfinder Adventure C...</td>\n      <td>2016-05-26</td>\n      <td>2016-07-01</td>\n      <td>Apps</td>\n      <td>0</td>\n      <td>AU</td>\n      <td>35</td>\n    </tr>\n    <tr>\n      <th>20629</th>\n      <td>Sloth Face App</td>\n      <td>10000.0</td>\n      <td>We all love fatbooth and Ugly booth, why not s...</td>\n      <td>2015-02-13</td>\n      <td>2015-04-14</td>\n      <td>Apps</td>\n      <td>0</td>\n      <td>US</td>\n      <td>59</td>\n    </tr>\n    <tr>\n      <th>20630</th>\n      <td>DriverTools</td>\n      <td>2500.0</td>\n      <td>Production android app for cab drivers and tru...</td>\n      <td>2015-04-20</td>\n      <td>2015-05-20</td>\n      <td>Apps</td>\n      <td>0</td>\n      <td>US</td>\n      <td>29</td>\n    </tr>\n    <tr>\n      <th>20631</th>\n      <td>Let's Trail app</td>\n      <td>50000.0</td>\n      <td>We recently launched version 1 of our unique t...</td>\n      <td>2014-10-21</td>\n      <td>2014-11-20</td>\n      <td>Apps</td>\n      <td>0</td>\n      <td>IE</td>\n      <td>29</td>\n    </tr>\n  </tbody>\n</table>\n<p>15778 rows × 9 columns</p>\n</div>"
     },
     "metadata": {},
     "execution_count": 21
    }
   ],
   "source": [
    "df"
   ]
  },
  {
   "cell_type": "code",
   "execution_count": 22,
   "metadata": {},
   "outputs": [],
   "source": [
    "train2, test2 = train_test_split(df_nt, train_size=0.80, test_size=0.20, \n",
    "                                stratify= df_nt['state'], random_state=3)\n",
    "\n",
    "train2, val2 = train_test_split(train2, train_size=0.80, test_size=0.20, \n",
    "                                stratify= train2['state'], random_state=3)\n",
    "\n",
    "\n",
    "features2 = ['goal', 'cam_length']\n",
    "target2 = 'state'\n",
    "\n",
    "X_train2 = train2[features2]\n",
    "X_val2 = val2[features2]\n",
    "X_test2 = test2[features2]\n",
    "y_train2 = train2[target2]\n",
    "y_val2 = val2[target2]\n",
    "y_test2 = test2[target2]"
   ]
  },
  {
   "cell_type": "code",
   "execution_count": 23,
   "metadata": {},
   "outputs": [
    {
     "output_type": "execute_result",
     "data": {
      "text/plain": "                                                name      goal  \\\n0  Auntie Di's Music Time Sign ASL for Hearing an...    1500.0   \n1                    Jump Start Kindergarten Toolkit     500.0   \n2  Ojukwu Balewa Awolowo (O.B.A.) Public Library ...  100000.0   \n3      MASTIZE - [mas-TAHYZ, MAS-tahyz]  - to spread    5000.0   \n5  Shadow School Board - Reforming Texas School B...   13000.0   \n\n                                               blurb launched_at   deadline  \\\n0  MTS ASL Curriculum Workbook is a reproducible ...  2014-12-17 2015-01-23   \n1  This kit teaches how to print, correct an ugly...  2015-03-02 2015-05-01   \n2  Establishing a free, world-class, public libra...  2015-01-25 2015-03-26   \n3  Goal: Introducing a new word into the English ...  2014-09-06 2014-10-06   \n5  Shadow School Board will provide parents & tax...  2015-10-21 2015-11-20   \n\n   category  state country  cam_length  \n0  Academic      0      US          36  \n1  Academic      0      US          59  \n2  Academic      0      US          59  \n3  Academic      0      US          29  \n5  Academic      0      US          29  ",
      "text/html": "<div>\n<style scoped>\n    .dataframe tbody tr th:only-of-type {\n        vertical-align: middle;\n    }\n\n    .dataframe tbody tr th {\n        vertical-align: top;\n    }\n\n    .dataframe thead th {\n        text-align: right;\n    }\n</style>\n<table border=\"1\" class=\"dataframe\">\n  <thead>\n    <tr style=\"text-align: right;\">\n      <th></th>\n      <th>name</th>\n      <th>goal</th>\n      <th>blurb</th>\n      <th>launched_at</th>\n      <th>deadline</th>\n      <th>category</th>\n      <th>state</th>\n      <th>country</th>\n      <th>cam_length</th>\n    </tr>\n  </thead>\n  <tbody>\n    <tr>\n      <th>0</th>\n      <td>Auntie Di's Music Time Sign ASL for Hearing an...</td>\n      <td>1500.0</td>\n      <td>MTS ASL Curriculum Workbook is a reproducible ...</td>\n      <td>2014-12-17</td>\n      <td>2015-01-23</td>\n      <td>Academic</td>\n      <td>0</td>\n      <td>US</td>\n      <td>36</td>\n    </tr>\n    <tr>\n      <th>1</th>\n      <td>Jump Start Kindergarten Toolkit</td>\n      <td>500.0</td>\n      <td>This kit teaches how to print, correct an ugly...</td>\n      <td>2015-03-02</td>\n      <td>2015-05-01</td>\n      <td>Academic</td>\n      <td>0</td>\n      <td>US</td>\n      <td>59</td>\n    </tr>\n    <tr>\n      <th>2</th>\n      <td>Ojukwu Balewa Awolowo (O.B.A.) Public Library ...</td>\n      <td>100000.0</td>\n      <td>Establishing a free, world-class, public libra...</td>\n      <td>2015-01-25</td>\n      <td>2015-03-26</td>\n      <td>Academic</td>\n      <td>0</td>\n      <td>US</td>\n      <td>59</td>\n    </tr>\n    <tr>\n      <th>3</th>\n      <td>MASTIZE - [mas-TAHYZ, MAS-tahyz]  - to spread</td>\n      <td>5000.0</td>\n      <td>Goal: Introducing a new word into the English ...</td>\n      <td>2014-09-06</td>\n      <td>2014-10-06</td>\n      <td>Academic</td>\n      <td>0</td>\n      <td>US</td>\n      <td>29</td>\n    </tr>\n    <tr>\n      <th>5</th>\n      <td>Shadow School Board - Reforming Texas School B...</td>\n      <td>13000.0</td>\n      <td>Shadow School Board will provide parents &amp; tax...</td>\n      <td>2015-10-21</td>\n      <td>2015-11-20</td>\n      <td>Academic</td>\n      <td>0</td>\n      <td>US</td>\n      <td>29</td>\n    </tr>\n  </tbody>\n</table>\n</div>"
     },
     "metadata": {},
     "execution_count": 23
    }
   ],
   "source": [
    "df.head()"
   ]
  },
  {
   "cell_type": "code",
   "execution_count": 24,
   "metadata": {},
   "outputs": [],
   "source": [
    "df = df[['name', 'goal', 'blurb', 'state', 'cam_length']]\n",
    "NUMERIC_COLUMNS = ['goal', \"cam_length\", ]\n",
    "LABELS = ['state']\n",
    "numeric_data_only = df[NUMERIC_COLUMNS]\n",
    "NON_LABELS = [c for c in df.columns if c not in LABELS]\n",
    "TEXT_COLUMNS = [c for c in NON_LABELS if c not in NUMERIC_COLUMNS]"
   ]
  },
  {
   "cell_type": "code",
   "execution_count": 25,
   "metadata": {},
   "outputs": [],
   "source": [
    "def declare(df):\n",
    "    NUMERIC_COLUMNS = ['goal', \"cam_length\", ]\n",
    "    LABELS = ['state']\n",
    "    numeric_data_only = df[NUMERIC_COLUMNS]\n",
    "    NON_LABELS = [c for c in df.columns if c not in LABELS]\n",
    "    TEXT_COLUMNS = [c for c in NON_LABELS if c not in NUMERIC_COLUMNS]\n",
    "\n",
    "    return df"
   ]
  },
  {
   "cell_type": "code",
   "execution_count": 26,
   "metadata": {},
   "outputs": [
    {
     "output_type": "execute_result",
     "data": {
      "text/plain": "                                                    name      goal  \\\n0      Auntie Di's Music Time Sign ASL for Hearing an...    1500.0   \n1                        Jump Start Kindergarten Toolkit     500.0   \n2      Ojukwu Balewa Awolowo (O.B.A.) Public Library ...  100000.0   \n3          MASTIZE - [mas-TAHYZ, MAS-tahyz]  - to spread    5000.0   \n5      Shadow School Board - Reforming Texas School B...   13000.0   \n...                                                  ...       ...   \n20625            Private.Center - Private Social Network   20000.0   \n20626  Pathfinder Adventure Card Game Character Track...    5000.0   \n20629                                     Sloth Face App   10000.0   \n20630                                        DriverTools    2500.0   \n20631                                    Let's Trail app   50000.0   \n\n                                                   blurb  state  cam_length  \n0      MTS ASL Curriculum Workbook is a reproducible ...      0          36  \n1      This kit teaches how to print, correct an ugly...      0          59  \n2      Establishing a free, world-class, public libra...      0          59  \n3      Goal: Introducing a new word into the English ...      0          29  \n5      Shadow School Board will provide parents & tax...      0          29  \n...                                                  ...    ...         ...  \n20625  Private.Center - the Private Social Network is...      0          59  \n20626  A companion app for the Pathfinder Adventure C...      0          35  \n20629  We all love fatbooth and Ugly booth, why not s...      0          59  \n20630  Production android app for cab drivers and tru...      0          29  \n20631  We recently launched version 1 of our unique t...      0          29  \n\n[15778 rows x 5 columns]",
      "text/html": "<div>\n<style scoped>\n    .dataframe tbody tr th:only-of-type {\n        vertical-align: middle;\n    }\n\n    .dataframe tbody tr th {\n        vertical-align: top;\n    }\n\n    .dataframe thead th {\n        text-align: right;\n    }\n</style>\n<table border=\"1\" class=\"dataframe\">\n  <thead>\n    <tr style=\"text-align: right;\">\n      <th></th>\n      <th>name</th>\n      <th>goal</th>\n      <th>blurb</th>\n      <th>state</th>\n      <th>cam_length</th>\n    </tr>\n  </thead>\n  <tbody>\n    <tr>\n      <th>0</th>\n      <td>Auntie Di's Music Time Sign ASL for Hearing an...</td>\n      <td>1500.0</td>\n      <td>MTS ASL Curriculum Workbook is a reproducible ...</td>\n      <td>0</td>\n      <td>36</td>\n    </tr>\n    <tr>\n      <th>1</th>\n      <td>Jump Start Kindergarten Toolkit</td>\n      <td>500.0</td>\n      <td>This kit teaches how to print, correct an ugly...</td>\n      <td>0</td>\n      <td>59</td>\n    </tr>\n    <tr>\n      <th>2</th>\n      <td>Ojukwu Balewa Awolowo (O.B.A.) Public Library ...</td>\n      <td>100000.0</td>\n      <td>Establishing a free, world-class, public libra...</td>\n      <td>0</td>\n      <td>59</td>\n    </tr>\n    <tr>\n      <th>3</th>\n      <td>MASTIZE - [mas-TAHYZ, MAS-tahyz]  - to spread</td>\n      <td>5000.0</td>\n      <td>Goal: Introducing a new word into the English ...</td>\n      <td>0</td>\n      <td>29</td>\n    </tr>\n    <tr>\n      <th>5</th>\n      <td>Shadow School Board - Reforming Texas School B...</td>\n      <td>13000.0</td>\n      <td>Shadow School Board will provide parents &amp; tax...</td>\n      <td>0</td>\n      <td>29</td>\n    </tr>\n    <tr>\n      <th>...</th>\n      <td>...</td>\n      <td>...</td>\n      <td>...</td>\n      <td>...</td>\n      <td>...</td>\n    </tr>\n    <tr>\n      <th>20625</th>\n      <td>Private.Center - Private Social Network</td>\n      <td>20000.0</td>\n      <td>Private.Center - the Private Social Network is...</td>\n      <td>0</td>\n      <td>59</td>\n    </tr>\n    <tr>\n      <th>20626</th>\n      <td>Pathfinder Adventure Card Game Character Track...</td>\n      <td>5000.0</td>\n      <td>A companion app for the Pathfinder Adventure C...</td>\n      <td>0</td>\n      <td>35</td>\n    </tr>\n    <tr>\n      <th>20629</th>\n      <td>Sloth Face App</td>\n      <td>10000.0</td>\n      <td>We all love fatbooth and Ugly booth, why not s...</td>\n      <td>0</td>\n      <td>59</td>\n    </tr>\n    <tr>\n      <th>20630</th>\n      <td>DriverTools</td>\n      <td>2500.0</td>\n      <td>Production android app for cab drivers and tru...</td>\n      <td>0</td>\n      <td>29</td>\n    </tr>\n    <tr>\n      <th>20631</th>\n      <td>Let's Trail app</td>\n      <td>50000.0</td>\n      <td>We recently launched version 1 of our unique t...</td>\n      <td>0</td>\n      <td>29</td>\n    </tr>\n  </tbody>\n</table>\n<p>15778 rows × 5 columns</p>\n</div>"
     },
     "metadata": {},
     "execution_count": 26
    }
   ],
   "source": [
    "declare(df)"
   ]
  },
  {
   "cell_type": "code",
   "execution_count": 27,
   "metadata": {},
   "outputs": [],
   "source": [
    "\n",
    "\n",
    "def combine_text_columns(data_frame, to_drop=['state', 'goal', 'cam_length']):\n",
    "    \"\"\" Takes the dataset as read in, drops the non-feature, non-text columns and\n",
    "        then combines all of the text columns into a single vector that has all of\n",
    "        the text for a row.\n",
    "\n",
    "        :param data_frame: The data as read in with read_csv (no preprocessing necessary)\n",
    "        :param to_drop (optional): Removes the numeric and label columns by default.\n",
    "    \"\"\"\n",
    "    # drop non-text columns that are in the df\n",
    "    to_drop = set(to_drop) & set(data_frame.columns.tolist())\n",
    "    text_data = data_frame.drop(to_drop, axis=1)\n",
    "\n",
    "    # joins all of the text items in a row (axis=1)\n",
    "    # with a space in between\n",
    "    return text_data.apply(lambda x: \" \".join(x), axis=1)\n"
   ]
  },
  {
   "cell_type": "code",
   "execution_count": 28,
   "metadata": {},
   "outputs": [
    {
     "output_type": "execute_result",
     "data": {
      "text/plain": "                                                    name      goal  \\\n0      Auntie Di's Music Time Sign ASL for Hearing an...    1500.0   \n1                        Jump Start Kindergarten Toolkit     500.0   \n2      Ojukwu Balewa Awolowo (O.B.A.) Public Library ...  100000.0   \n3          MASTIZE - [mas-TAHYZ, MAS-tahyz]  - to spread    5000.0   \n5      Shadow School Board - Reforming Texas School B...   13000.0   \n...                                                  ...       ...   \n20625            Private.Center - Private Social Network   20000.0   \n20626  Pathfinder Adventure Card Game Character Track...    5000.0   \n20629                                     Sloth Face App   10000.0   \n20630                                        DriverTools    2500.0   \n20631                                    Let's Trail app   50000.0   \n\n                                                   blurb  state  cam_length  \n0      MTS ASL Curriculum Workbook is a reproducible ...      0          36  \n1      This kit teaches how to print, correct an ugly...      0          59  \n2      Establishing a free, world-class, public libra...      0          59  \n3      Goal: Introducing a new word into the English ...      0          29  \n5      Shadow School Board will provide parents & tax...      0          29  \n...                                                  ...    ...         ...  \n20625  Private.Center - the Private Social Network is...      0          59  \n20626  A companion app for the Pathfinder Adventure C...      0          35  \n20629  We all love fatbooth and Ugly booth, why not s...      0          59  \n20630  Production android app for cab drivers and tru...      0          29  \n20631  We recently launched version 1 of our unique t...      0          29  \n\n[15778 rows x 5 columns]",
      "text/html": "<div>\n<style scoped>\n    .dataframe tbody tr th:only-of-type {\n        vertical-align: middle;\n    }\n\n    .dataframe tbody tr th {\n        vertical-align: top;\n    }\n\n    .dataframe thead th {\n        text-align: right;\n    }\n</style>\n<table border=\"1\" class=\"dataframe\">\n  <thead>\n    <tr style=\"text-align: right;\">\n      <th></th>\n      <th>name</th>\n      <th>goal</th>\n      <th>blurb</th>\n      <th>state</th>\n      <th>cam_length</th>\n    </tr>\n  </thead>\n  <tbody>\n    <tr>\n      <th>0</th>\n      <td>Auntie Di's Music Time Sign ASL for Hearing an...</td>\n      <td>1500.0</td>\n      <td>MTS ASL Curriculum Workbook is a reproducible ...</td>\n      <td>0</td>\n      <td>36</td>\n    </tr>\n    <tr>\n      <th>1</th>\n      <td>Jump Start Kindergarten Toolkit</td>\n      <td>500.0</td>\n      <td>This kit teaches how to print, correct an ugly...</td>\n      <td>0</td>\n      <td>59</td>\n    </tr>\n    <tr>\n      <th>2</th>\n      <td>Ojukwu Balewa Awolowo (O.B.A.) Public Library ...</td>\n      <td>100000.0</td>\n      <td>Establishing a free, world-class, public libra...</td>\n      <td>0</td>\n      <td>59</td>\n    </tr>\n    <tr>\n      <th>3</th>\n      <td>MASTIZE - [mas-TAHYZ, MAS-tahyz]  - to spread</td>\n      <td>5000.0</td>\n      <td>Goal: Introducing a new word into the English ...</td>\n      <td>0</td>\n      <td>29</td>\n    </tr>\n    <tr>\n      <th>5</th>\n      <td>Shadow School Board - Reforming Texas School B...</td>\n      <td>13000.0</td>\n      <td>Shadow School Board will provide parents &amp; tax...</td>\n      <td>0</td>\n      <td>29</td>\n    </tr>\n    <tr>\n      <th>...</th>\n      <td>...</td>\n      <td>...</td>\n      <td>...</td>\n      <td>...</td>\n      <td>...</td>\n    </tr>\n    <tr>\n      <th>20625</th>\n      <td>Private.Center - Private Social Network</td>\n      <td>20000.0</td>\n      <td>Private.Center - the Private Social Network is...</td>\n      <td>0</td>\n      <td>59</td>\n    </tr>\n    <tr>\n      <th>20626</th>\n      <td>Pathfinder Adventure Card Game Character Track...</td>\n      <td>5000.0</td>\n      <td>A companion app for the Pathfinder Adventure C...</td>\n      <td>0</td>\n      <td>35</td>\n    </tr>\n    <tr>\n      <th>20629</th>\n      <td>Sloth Face App</td>\n      <td>10000.0</td>\n      <td>We all love fatbooth and Ugly booth, why not s...</td>\n      <td>0</td>\n      <td>59</td>\n    </tr>\n    <tr>\n      <th>20630</th>\n      <td>DriverTools</td>\n      <td>2500.0</td>\n      <td>Production android app for cab drivers and tru...</td>\n      <td>0</td>\n      <td>29</td>\n    </tr>\n    <tr>\n      <th>20631</th>\n      <td>Let's Trail app</td>\n      <td>50000.0</td>\n      <td>We recently launched version 1 of our unique t...</td>\n      <td>0</td>\n      <td>29</td>\n    </tr>\n  </tbody>\n</table>\n<p>15778 rows × 5 columns</p>\n</div>"
     },
     "metadata": {},
     "execution_count": 28
    }
   ],
   "source": [
    "df"
   ]
  },
  {
   "cell_type": "code",
   "execution_count": 29,
   "metadata": {},
   "outputs": [
    {
     "output_type": "execute_result",
     "data": {
      "text/plain": "0        Auntie Di's Music Time Sign ASL for Hearing an...\n1        Jump Start Kindergarten Toolkit This kit teach...\n2        Ojukwu Balewa Awolowo (O.B.A.) Public Library ...\n3        MASTIZE - [mas-TAHYZ, MAS-tahyz]  - to spread ...\n5        Shadow School Board - Reforming Texas School B...\n                               ...                        \n20625    Private.Center - Private Social Network Privat...\n20626    Pathfinder Adventure Card Game Character Track...\n20629    Sloth Face App We all love fatbooth and Ugly b...\n20630    DriverTools Production android app for cab dri...\n20631    Let's Trail app We recently launched version 1...\nLength: 15778, dtype: object"
     },
     "metadata": {},
     "execution_count": 29
    }
   ],
   "source": [
    "combine_text_columns(df)"
   ]
  },
  {
   "cell_type": "code",
   "execution_count": 30,
   "metadata": {},
   "outputs": [
    {
     "output_type": "execute_result",
     "data": {
      "text/plain": "['goal', 'cam_length', 'state']"
     },
     "metadata": {},
     "execution_count": 30
    }
   ],
   "source": [
    "NUMERIC_COLUMNS + LABELS"
   ]
  },
  {
   "cell_type": "code",
   "execution_count": 31,
   "metadata": {},
   "outputs": [
    {
     "output_type": "execute_result",
     "data": {
      "text/plain": "                                                    name      goal  \\\n0      Auntie Di's Music Time Sign ASL for Hearing an...    1500.0   \n1                        Jump Start Kindergarten Toolkit     500.0   \n2      Ojukwu Balewa Awolowo (O.B.A.) Public Library ...  100000.0   \n3          MASTIZE - [mas-TAHYZ, MAS-tahyz]  - to spread    5000.0   \n5      Shadow School Board - Reforming Texas School B...   13000.0   \n...                                                  ...       ...   \n20625            Private.Center - Private Social Network   20000.0   \n20626  Pathfinder Adventure Card Game Character Track...    5000.0   \n20629                                     Sloth Face App   10000.0   \n20630                                        DriverTools    2500.0   \n20631                                    Let's Trail app   50000.0   \n\n                                                   blurb  state  cam_length  \n0      MTS ASL Curriculum Workbook is a reproducible ...      0          36  \n1      This kit teaches how to print, correct an ugly...      0          59  \n2      Establishing a free, world-class, public libra...      0          59  \n3      Goal: Introducing a new word into the English ...      0          29  \n5      Shadow School Board will provide parents & tax...      0          29  \n...                                                  ...    ...         ...  \n20625  Private.Center - the Private Social Network is...      0          59  \n20626  A companion app for the Pathfinder Adventure C...      0          35  \n20629  We all love fatbooth and Ugly booth, why not s...      0          59  \n20630  Production android app for cab drivers and tru...      0          29  \n20631  We recently launched version 1 of our unique t...      0          29  \n\n[15778 rows x 5 columns]",
      "text/html": "<div>\n<style scoped>\n    .dataframe tbody tr th:only-of-type {\n        vertical-align: middle;\n    }\n\n    .dataframe tbody tr th {\n        vertical-align: top;\n    }\n\n    .dataframe thead th {\n        text-align: right;\n    }\n</style>\n<table border=\"1\" class=\"dataframe\">\n  <thead>\n    <tr style=\"text-align: right;\">\n      <th></th>\n      <th>name</th>\n      <th>goal</th>\n      <th>blurb</th>\n      <th>state</th>\n      <th>cam_length</th>\n    </tr>\n  </thead>\n  <tbody>\n    <tr>\n      <th>0</th>\n      <td>Auntie Di's Music Time Sign ASL for Hearing an...</td>\n      <td>1500.0</td>\n      <td>MTS ASL Curriculum Workbook is a reproducible ...</td>\n      <td>0</td>\n      <td>36</td>\n    </tr>\n    <tr>\n      <th>1</th>\n      <td>Jump Start Kindergarten Toolkit</td>\n      <td>500.0</td>\n      <td>This kit teaches how to print, correct an ugly...</td>\n      <td>0</td>\n      <td>59</td>\n    </tr>\n    <tr>\n      <th>2</th>\n      <td>Ojukwu Balewa Awolowo (O.B.A.) Public Library ...</td>\n      <td>100000.0</td>\n      <td>Establishing a free, world-class, public libra...</td>\n      <td>0</td>\n      <td>59</td>\n    </tr>\n    <tr>\n      <th>3</th>\n      <td>MASTIZE - [mas-TAHYZ, MAS-tahyz]  - to spread</td>\n      <td>5000.0</td>\n      <td>Goal: Introducing a new word into the English ...</td>\n      <td>0</td>\n      <td>29</td>\n    </tr>\n    <tr>\n      <th>5</th>\n      <td>Shadow School Board - Reforming Texas School B...</td>\n      <td>13000.0</td>\n      <td>Shadow School Board will provide parents &amp; tax...</td>\n      <td>0</td>\n      <td>29</td>\n    </tr>\n    <tr>\n      <th>...</th>\n      <td>...</td>\n      <td>...</td>\n      <td>...</td>\n      <td>...</td>\n      <td>...</td>\n    </tr>\n    <tr>\n      <th>20625</th>\n      <td>Private.Center - Private Social Network</td>\n      <td>20000.0</td>\n      <td>Private.Center - the Private Social Network is...</td>\n      <td>0</td>\n      <td>59</td>\n    </tr>\n    <tr>\n      <th>20626</th>\n      <td>Pathfinder Adventure Card Game Character Track...</td>\n      <td>5000.0</td>\n      <td>A companion app for the Pathfinder Adventure C...</td>\n      <td>0</td>\n      <td>35</td>\n    </tr>\n    <tr>\n      <th>20629</th>\n      <td>Sloth Face App</td>\n      <td>10000.0</td>\n      <td>We all love fatbooth and Ugly booth, why not s...</td>\n      <td>0</td>\n      <td>59</td>\n    </tr>\n    <tr>\n      <th>20630</th>\n      <td>DriverTools</td>\n      <td>2500.0</td>\n      <td>Production android app for cab drivers and tru...</td>\n      <td>0</td>\n      <td>29</td>\n    </tr>\n    <tr>\n      <th>20631</th>\n      <td>Let's Trail app</td>\n      <td>50000.0</td>\n      <td>We recently launched version 1 of our unique t...</td>\n      <td>0</td>\n      <td>29</td>\n    </tr>\n  </tbody>\n</table>\n<p>15778 rows × 5 columns</p>\n</div>"
     },
     "metadata": {},
     "execution_count": 31
    }
   ],
   "source": [
    "df"
   ]
  },
  {
   "cell_type": "code",
   "execution_count": 32,
   "metadata": {},
   "outputs": [],
   "source": [
    "# Numeric Pipeline\n",
    "## define a function that gets only numeric cols\n",
    "from sklearn.preprocessing import FunctionTransformer\n",
    "get_numeric_data = FunctionTransformer(lambda x: x[['goal', 'cam_length']], validate=False)\n",
    "get_declarations = FunctionTransformer(declare, validate=False)\n",
    "numeric_pipeline = Pipeline([\n",
    "    ('declarer', get_declarations),\n",
    "    ('selector', get_numeric_data)\n",
    "])\n",
    "\n",
    "# Text Pipeline\n",
    "get_text_data = FunctionTransformer(combine_text_columns, validate=False)\n",
    "\n",
    "text_pipeline = Pipeline([\n",
    "    ('declarer', get_declarations),\n",
    "    ('selector', get_text_data),\n",
    "    ('vectorizer', CountVectorizer(stop_words='english', ngram_range=(1,3)))\n",
    "])\n"
   ]
  },
  {
   "cell_type": "code",
   "execution_count": 33,
   "metadata": {},
   "outputs": [
    {
     "output_type": "execute_result",
     "data": {
      "text/plain": "['goal', 'cam_length']"
     },
     "metadata": {},
     "execution_count": 33
    }
   ],
   "source": [
    "NUMERIC_COLUMNS"
   ]
  },
  {
   "cell_type": "code",
   "execution_count": 34,
   "metadata": {},
   "outputs": [],
   "source": [
    "from sklearn.pipeline import FeatureUnion\n",
    "from sklearn.multiclass import OneVsRestClassifier\n",
    "\n",
    "join_numeric_text_features = FeatureUnion(\n",
    "    transformer_list= [\n",
    "        ('numeric_features', numeric_pipeline),\n",
    "        ('text_features', text_pipeline)\n",
    "    ] )\n"
   ]
  },
  {
   "cell_type": "code",
   "execution_count": 35,
   "metadata": {},
   "outputs": [],
   "source": [
    "df['text'] = combine_text_columns(df)"
   ]
  },
  {
   "cell_type": "code",
   "execution_count": 36,
   "metadata": {},
   "outputs": [],
   "source": [
    "df = df[['goal', 'state', 'cam_length', 'text']]"
   ]
  },
  {
   "cell_type": "code",
   "execution_count": 37,
   "metadata": {},
   "outputs": [],
   "source": [
    "# split into train test\n",
    "dummy_labels = pd.get_dummies(df[LABELS])\n",
    "\n",
    "X_train, X_test, y_train, y_test = train_test_split(df[['goal', 'cam_length', 'text']], df['state'],train_size=0.80, test_size=0.20, stratify= df['state'], random_state=3)"
   ]
  },
  {
   "cell_type": "code",
   "execution_count": 38,
   "metadata": {},
   "outputs": [],
   "source": [
    "# Overall pipeline\n",
    "pl = Pipeline([\n",
    "    ('union', join_numeric_text_features),\n",
    "    ('clf', OneVsRestClassifier(xgb.XGBClassifier(n_jobs=-1, max_depth=300, random_state=7)))\n",
    "])\n"
   ]
  },
  {
   "cell_type": "code",
   "execution_count": 39,
   "metadata": {
    "tags": []
   },
   "outputs": [
    {
     "output_type": "stream",
     "name": "stdout",
     "text": "\nAccuracy on dataset:  0.7316223067173637\n"
    }
   ],
   "source": [
    "pl.fit(X_train, y_train)\n",
    "accuracy = pl.score(X_test, y_test)\n",
    "print(\"\\nAccuracy on dataset: \", accuracy)"
   ]
  },
  {
   "cell_type": "code",
   "execution_count": 40,
   "metadata": {
    "tags": []
   },
   "outputs": [
    {
     "output_type": "stream",
     "name": "stdout",
     "text": "Classifier Accuracy: 0.7316223067173637\nClassifier Recall: 0.5504424778761062\n"
    }
   ],
   "source": [
    "xgpredicted = pl.predict(X_test)\n",
    "print(\"Classifier Accuracy:\", accuracy_score(y_test, xgpredicted))\n",
    "print(\"Classifier Recall:\", recall_score(y_test, xgpredicted))"
   ]
  },
  {
   "cell_type": "code",
   "execution_count": 41,
   "metadata": {},
   "outputs": [
    {
     "output_type": "display_data",
     "data": {
      "text/plain": "<Figure size 432x288 with 2 Axes>",
      "image/svg+xml": "<?xml version=\"1.0\" encoding=\"utf-8\" standalone=\"no\"?>\r\n<!DOCTYPE svg PUBLIC \"-//W3C//DTD SVG 1.1//EN\"\r\n  \"http://www.w3.org/Graphics/SVG/1.1/DTD/svg11.dtd\">\r\n<!-- Created with matplotlib (https://matplotlib.org/) -->\r\n<svg height=\"262.19625pt\" version=\"1.1\" viewBox=\"0 0 318.942625 262.19625\" width=\"318.942625pt\" xmlns=\"http://www.w3.org/2000/svg\" xmlns:xlink=\"http://www.w3.org/1999/xlink\">\r\n <metadata>\r\n  <rdf:RDF xmlns:cc=\"http://creativecommons.org/ns#\" xmlns:dc=\"http://purl.org/dc/elements/1.1/\" xmlns:rdf=\"http://www.w3.org/1999/02/22-rdf-syntax-ns#\">\r\n   <cc:Work>\r\n    <dc:type rdf:resource=\"http://purl.org/dc/dcmitype/StillImage\"/>\r\n    <dc:date>2020-08-27T14:07:41.912521</dc:date>\r\n    <dc:format>image/svg+xml</dc:format>\r\n    <dc:creator>\r\n     <cc:Agent>\r\n      <dc:title>Matplotlib v3.3.0, https://matplotlib.org/</dc:title>\r\n     </cc:Agent>\r\n    </dc:creator>\r\n   </cc:Work>\r\n  </rdf:RDF>\r\n </metadata>\r\n <defs>\r\n  <style type=\"text/css\">*{stroke-linecap:butt;stroke-linejoin:round;}</style>\r\n </defs>\r\n <g id=\"figure_1\">\r\n  <g id=\"patch_1\">\r\n   <path d=\"M 0 262.19625 \r\nL 318.942625 262.19625 \r\nL 318.942625 0 \r\nL 0 0 \r\nz\r\n\" style=\"fill:none;\"/>\r\n  </g>\r\n  <g id=\"axes_1\">\r\n   <g id=\"patch_2\">\r\n    <path d=\"M 34.240625 224.64 \r\nL 251.680625 224.64 \r\nL 251.680625 7.2 \r\nL 34.240625 7.2 \r\nz\r\n\" style=\"fill:#ffffff;\"/>\r\n   </g>\r\n   <g clip-path=\"url(#pc1d0768474)\">\r\n    <image height=\"218\" id=\"image8f202cda70\" transform=\"scale(1 -1)translate(0 -218)\" width=\"218\" x=\"34.240625\" xlink:href=\"data:image/png;base64,\r\niVBORw0KGgoAAAANSUhEUgAAANoAAADaCAYAAADAHVzbAAACmElEQVR4nO3VsQ3CQAAEQZs23A5FUwsJCZlFhoSI7Bo+2RdipoJLVrc+349j4ae8vvvsCQy6zB4A/0BoEBAaBIQGAaFBQGgQEBoEhAYBoUFAaBAQGgSEBgGhQUBoEBAaBIQGAaFBQGgQEBoEhAYBoUFAaBAQGgSEBgGhQUBoEBAaBIQGAaFBQGgQEBoEhAYBoUFAaBAQGgSEBgGhQUBoEBAaBIQGAaFBQGgQEBoEhAYBoUFAaBAQGgSEBgGhQUBoEBAaBIQGAaFBQGgQEBoEhAYBoUFAaBAQGgSEBgGhQUBoEBAaBIQGAaFBQGgQEBoEhAYBoUFAaBAQGgSEBgGhQUBoEBAaBIQGAaFBQGgQEBoEhAYBoUFAaBAQGgSEBgGhQUBoEBAaBIQGAaFBQGgQEBoEhAYBoUFAaBAQGgSEBgGhQUBoEBAaBIQGAaFBQGgQEBoEhAYBoUFAaBAQGgSEBoF1uW7H7BGM+dzusycwyKNBQGgQEBoEhAYBoUFAaBAQGgSEBgGhQUBoEBAaBIQGAaFBQGgQEBoEhAYBoUFAaBAQGgSEBgGhQUBoEBAaBIQGAaFBQGgQEBoEhAYBoUFAaBAQGgSEBgGhQUBoEBAaBIQGAaFBQGgQEBoEhAYBoUFAaBAQGgSEBgGhQUBoEBAaBIQGAaFBQGgQEBoEhAYBoUFAaBAQGgSEBgGhQUBoEBAaBIQGAaFBQGgQEBoEhAYBoUFAaBAQGgSEBgGhQUBoEBAaBIQGAaFBQGgQEBoEhAYBoUFAaBAQGgSEBgGhQUBoEBAaBIQGAaFBQGgQEBoEhAYBoUFAaBAQGgSEBgGhQUBoEBAaBIQGAaFBQGgQEBoEhAYBoUFAaBAQGgSEBgGhQUBoEBAaBIQGgRPwGgwhXK5h5gAAAABJRU5ErkJggg==\" y=\"-6.64\"/>\r\n   </g>\r\n   <g id=\"matplotlib.axis_1\">\r\n    <g id=\"xtick_1\">\r\n     <g id=\"line2d_1\">\r\n      <defs>\r\n       <path d=\"M 0 0 \r\nL 0 3.5 \r\n\" id=\"m00aab73213\" style=\"stroke:#000000;stroke-width:0.8;\"/>\r\n      </defs>\r\n      <g>\r\n       <use style=\"stroke:#000000;stroke-width:0.8;\" x=\"88.600625\" xlink:href=\"#m00aab73213\" y=\"224.64\"/>\r\n      </g>\r\n     </g>\r\n     <g id=\"text_1\">\r\n      <!-- 0 -->\r\n      <g transform=\"translate(85.419375 239.238437)scale(0.1 -0.1)\">\r\n       <defs>\r\n        <path d=\"M 31.78125 66.40625 \r\nQ 24.171875 66.40625 20.328125 58.90625 \r\nQ 16.5 51.421875 16.5 36.375 \r\nQ 16.5 21.390625 20.328125 13.890625 \r\nQ 24.171875 6.390625 31.78125 6.390625 \r\nQ 39.453125 6.390625 43.28125 13.890625 \r\nQ 47.125 21.390625 47.125 36.375 \r\nQ 47.125 51.421875 43.28125 58.90625 \r\nQ 39.453125 66.40625 31.78125 66.40625 \r\nz\r\nM 31.78125 74.21875 \r\nQ 44.046875 74.21875 50.515625 64.515625 \r\nQ 56.984375 54.828125 56.984375 36.375 \r\nQ 56.984375 17.96875 50.515625 8.265625 \r\nQ 44.046875 -1.421875 31.78125 -1.421875 \r\nQ 19.53125 -1.421875 13.0625 8.265625 \r\nQ 6.59375 17.96875 6.59375 36.375 \r\nQ 6.59375 54.828125 13.0625 64.515625 \r\nQ 19.53125 74.21875 31.78125 74.21875 \r\nz\r\n\" id=\"DejaVuSans-48\"/>\r\n       </defs>\r\n       <use xlink:href=\"#DejaVuSans-48\"/>\r\n      </g>\r\n     </g>\r\n    </g>\r\n    <g id=\"xtick_2\">\r\n     <g id=\"line2d_2\">\r\n      <g>\r\n       <use style=\"stroke:#000000;stroke-width:0.8;\" x=\"197.320625\" xlink:href=\"#m00aab73213\" y=\"224.64\"/>\r\n      </g>\r\n     </g>\r\n     <g id=\"text_2\">\r\n      <!-- 1 -->\r\n      <g transform=\"translate(194.139375 239.238437)scale(0.1 -0.1)\">\r\n       <defs>\r\n        <path d=\"M 12.40625 8.296875 \r\nL 28.515625 8.296875 \r\nL 28.515625 63.921875 \r\nL 10.984375 60.40625 \r\nL 10.984375 69.390625 \r\nL 28.421875 72.90625 \r\nL 38.28125 72.90625 \r\nL 38.28125 8.296875 \r\nL 54.390625 8.296875 \r\nL 54.390625 0 \r\nL 12.40625 0 \r\nz\r\n\" id=\"DejaVuSans-49\"/>\r\n       </defs>\r\n       <use xlink:href=\"#DejaVuSans-49\"/>\r\n      </g>\r\n     </g>\r\n    </g>\r\n    <g id=\"text_3\">\r\n     <!-- Predicted label -->\r\n     <g transform=\"translate(105.808281 252.916562)scale(0.1 -0.1)\">\r\n      <defs>\r\n       <path d=\"M 19.671875 64.796875 \r\nL 19.671875 37.40625 \r\nL 32.078125 37.40625 \r\nQ 38.96875 37.40625 42.71875 40.96875 \r\nQ 46.484375 44.53125 46.484375 51.125 \r\nQ 46.484375 57.671875 42.71875 61.234375 \r\nQ 38.96875 64.796875 32.078125 64.796875 \r\nz\r\nM 9.8125 72.90625 \r\nL 32.078125 72.90625 \r\nQ 44.34375 72.90625 50.609375 67.359375 \r\nQ 56.890625 61.8125 56.890625 51.125 \r\nQ 56.890625 40.328125 50.609375 34.8125 \r\nQ 44.34375 29.296875 32.078125 29.296875 \r\nL 19.671875 29.296875 \r\nL 19.671875 0 \r\nL 9.8125 0 \r\nz\r\n\" id=\"DejaVuSans-80\"/>\r\n       <path d=\"M 41.109375 46.296875 \r\nQ 39.59375 47.171875 37.8125 47.578125 \r\nQ 36.03125 48 33.890625 48 \r\nQ 26.265625 48 22.1875 43.046875 \r\nQ 18.109375 38.09375 18.109375 28.8125 \r\nL 18.109375 0 \r\nL 9.078125 0 \r\nL 9.078125 54.6875 \r\nL 18.109375 54.6875 \r\nL 18.109375 46.1875 \r\nQ 20.953125 51.171875 25.484375 53.578125 \r\nQ 30.03125 56 36.53125 56 \r\nQ 37.453125 56 38.578125 55.875 \r\nQ 39.703125 55.765625 41.0625 55.515625 \r\nz\r\n\" id=\"DejaVuSans-114\"/>\r\n       <path d=\"M 56.203125 29.59375 \r\nL 56.203125 25.203125 \r\nL 14.890625 25.203125 \r\nQ 15.484375 15.921875 20.484375 11.0625 \r\nQ 25.484375 6.203125 34.421875 6.203125 \r\nQ 39.59375 6.203125 44.453125 7.46875 \r\nQ 49.3125 8.734375 54.109375 11.28125 \r\nL 54.109375 2.78125 \r\nQ 49.265625 0.734375 44.1875 -0.34375 \r\nQ 39.109375 -1.421875 33.890625 -1.421875 \r\nQ 20.796875 -1.421875 13.15625 6.1875 \r\nQ 5.515625 13.8125 5.515625 26.8125 \r\nQ 5.515625 40.234375 12.765625 48.109375 \r\nQ 20.015625 56 32.328125 56 \r\nQ 43.359375 56 49.78125 48.890625 \r\nQ 56.203125 41.796875 56.203125 29.59375 \r\nz\r\nM 47.21875 32.234375 \r\nQ 47.125 39.59375 43.09375 43.984375 \r\nQ 39.0625 48.390625 32.421875 48.390625 \r\nQ 24.90625 48.390625 20.390625 44.140625 \r\nQ 15.875 39.890625 15.1875 32.171875 \r\nz\r\n\" id=\"DejaVuSans-101\"/>\r\n       <path d=\"M 45.40625 46.390625 \r\nL 45.40625 75.984375 \r\nL 54.390625 75.984375 \r\nL 54.390625 0 \r\nL 45.40625 0 \r\nL 45.40625 8.203125 \r\nQ 42.578125 3.328125 38.25 0.953125 \r\nQ 33.9375 -1.421875 27.875 -1.421875 \r\nQ 17.96875 -1.421875 11.734375 6.484375 \r\nQ 5.515625 14.40625 5.515625 27.296875 \r\nQ 5.515625 40.1875 11.734375 48.09375 \r\nQ 17.96875 56 27.875 56 \r\nQ 33.9375 56 38.25 53.625 \r\nQ 42.578125 51.265625 45.40625 46.390625 \r\nz\r\nM 14.796875 27.296875 \r\nQ 14.796875 17.390625 18.875 11.75 \r\nQ 22.953125 6.109375 30.078125 6.109375 \r\nQ 37.203125 6.109375 41.296875 11.75 \r\nQ 45.40625 17.390625 45.40625 27.296875 \r\nQ 45.40625 37.203125 41.296875 42.84375 \r\nQ 37.203125 48.484375 30.078125 48.484375 \r\nQ 22.953125 48.484375 18.875 42.84375 \r\nQ 14.796875 37.203125 14.796875 27.296875 \r\nz\r\n\" id=\"DejaVuSans-100\"/>\r\n       <path d=\"M 9.421875 54.6875 \r\nL 18.40625 54.6875 \r\nL 18.40625 0 \r\nL 9.421875 0 \r\nz\r\nM 9.421875 75.984375 \r\nL 18.40625 75.984375 \r\nL 18.40625 64.59375 \r\nL 9.421875 64.59375 \r\nz\r\n\" id=\"DejaVuSans-105\"/>\r\n       <path d=\"M 48.78125 52.59375 \r\nL 48.78125 44.1875 \r\nQ 44.96875 46.296875 41.140625 47.34375 \r\nQ 37.3125 48.390625 33.40625 48.390625 \r\nQ 24.65625 48.390625 19.8125 42.84375 \r\nQ 14.984375 37.3125 14.984375 27.296875 \r\nQ 14.984375 17.28125 19.8125 11.734375 \r\nQ 24.65625 6.203125 33.40625 6.203125 \r\nQ 37.3125 6.203125 41.140625 7.25 \r\nQ 44.96875 8.296875 48.78125 10.40625 \r\nL 48.78125 2.09375 \r\nQ 45.015625 0.34375 40.984375 -0.53125 \r\nQ 36.96875 -1.421875 32.421875 -1.421875 \r\nQ 20.0625 -1.421875 12.78125 6.34375 \r\nQ 5.515625 14.109375 5.515625 27.296875 \r\nQ 5.515625 40.671875 12.859375 48.328125 \r\nQ 20.21875 56 33.015625 56 \r\nQ 37.15625 56 41.109375 55.140625 \r\nQ 45.0625 54.296875 48.78125 52.59375 \r\nz\r\n\" id=\"DejaVuSans-99\"/>\r\n       <path d=\"M 18.3125 70.21875 \r\nL 18.3125 54.6875 \r\nL 36.8125 54.6875 \r\nL 36.8125 47.703125 \r\nL 18.3125 47.703125 \r\nL 18.3125 18.015625 \r\nQ 18.3125 11.328125 20.140625 9.421875 \r\nQ 21.96875 7.515625 27.59375 7.515625 \r\nL 36.8125 7.515625 \r\nL 36.8125 0 \r\nL 27.59375 0 \r\nQ 17.1875 0 13.234375 3.875 \r\nQ 9.28125 7.765625 9.28125 18.015625 \r\nL 9.28125 47.703125 \r\nL 2.6875 47.703125 \r\nL 2.6875 54.6875 \r\nL 9.28125 54.6875 \r\nL 9.28125 70.21875 \r\nz\r\n\" id=\"DejaVuSans-116\"/>\r\n       <path id=\"DejaVuSans-32\"/>\r\n       <path d=\"M 9.421875 75.984375 \r\nL 18.40625 75.984375 \r\nL 18.40625 0 \r\nL 9.421875 0 \r\nz\r\n\" id=\"DejaVuSans-108\"/>\r\n       <path d=\"M 34.28125 27.484375 \r\nQ 23.390625 27.484375 19.1875 25 \r\nQ 14.984375 22.515625 14.984375 16.5 \r\nQ 14.984375 11.71875 18.140625 8.90625 \r\nQ 21.296875 6.109375 26.703125 6.109375 \r\nQ 34.1875 6.109375 38.703125 11.40625 \r\nQ 43.21875 16.703125 43.21875 25.484375 \r\nL 43.21875 27.484375 \r\nz\r\nM 52.203125 31.203125 \r\nL 52.203125 0 \r\nL 43.21875 0 \r\nL 43.21875 8.296875 \r\nQ 40.140625 3.328125 35.546875 0.953125 \r\nQ 30.953125 -1.421875 24.3125 -1.421875 \r\nQ 15.921875 -1.421875 10.953125 3.296875 \r\nQ 6 8.015625 6 15.921875 \r\nQ 6 25.140625 12.171875 29.828125 \r\nQ 18.359375 34.515625 30.609375 34.515625 \r\nL 43.21875 34.515625 \r\nL 43.21875 35.40625 \r\nQ 43.21875 41.609375 39.140625 45 \r\nQ 35.0625 48.390625 27.6875 48.390625 \r\nQ 23 48.390625 18.546875 47.265625 \r\nQ 14.109375 46.140625 10.015625 43.890625 \r\nL 10.015625 52.203125 \r\nQ 14.9375 54.109375 19.578125 55.046875 \r\nQ 24.21875 56 28.609375 56 \r\nQ 40.484375 56 46.34375 49.84375 \r\nQ 52.203125 43.703125 52.203125 31.203125 \r\nz\r\n\" id=\"DejaVuSans-97\"/>\r\n       <path d=\"M 48.6875 27.296875 \r\nQ 48.6875 37.203125 44.609375 42.84375 \r\nQ 40.53125 48.484375 33.40625 48.484375 \r\nQ 26.265625 48.484375 22.1875 42.84375 \r\nQ 18.109375 37.203125 18.109375 27.296875 \r\nQ 18.109375 17.390625 22.1875 11.75 \r\nQ 26.265625 6.109375 33.40625 6.109375 \r\nQ 40.53125 6.109375 44.609375 11.75 \r\nQ 48.6875 17.390625 48.6875 27.296875 \r\nz\r\nM 18.109375 46.390625 \r\nQ 20.953125 51.265625 25.265625 53.625 \r\nQ 29.59375 56 35.59375 56 \r\nQ 45.5625 56 51.78125 48.09375 \r\nQ 58.015625 40.1875 58.015625 27.296875 \r\nQ 58.015625 14.40625 51.78125 6.484375 \r\nQ 45.5625 -1.421875 35.59375 -1.421875 \r\nQ 29.59375 -1.421875 25.265625 0.953125 \r\nQ 20.953125 3.328125 18.109375 8.203125 \r\nL 18.109375 0 \r\nL 9.078125 0 \r\nL 9.078125 75.984375 \r\nL 18.109375 75.984375 \r\nz\r\n\" id=\"DejaVuSans-98\"/>\r\n      </defs>\r\n      <use xlink:href=\"#DejaVuSans-80\"/>\r\n      <use x=\"58.552734\" xlink:href=\"#DejaVuSans-114\"/>\r\n      <use x=\"97.416016\" xlink:href=\"#DejaVuSans-101\"/>\r\n      <use x=\"158.939453\" xlink:href=\"#DejaVuSans-100\"/>\r\n      <use x=\"222.416016\" xlink:href=\"#DejaVuSans-105\"/>\r\n      <use x=\"250.199219\" xlink:href=\"#DejaVuSans-99\"/>\r\n      <use x=\"305.179688\" xlink:href=\"#DejaVuSans-116\"/>\r\n      <use x=\"344.388672\" xlink:href=\"#DejaVuSans-101\"/>\r\n      <use x=\"405.912109\" xlink:href=\"#DejaVuSans-100\"/>\r\n      <use x=\"469.388672\" xlink:href=\"#DejaVuSans-32\"/>\r\n      <use x=\"501.175781\" xlink:href=\"#DejaVuSans-108\"/>\r\n      <use x=\"528.958984\" xlink:href=\"#DejaVuSans-97\"/>\r\n      <use x=\"590.238281\" xlink:href=\"#DejaVuSans-98\"/>\r\n      <use x=\"653.714844\" xlink:href=\"#DejaVuSans-101\"/>\r\n      <use x=\"715.238281\" xlink:href=\"#DejaVuSans-108\"/>\r\n     </g>\r\n    </g>\r\n   </g>\r\n   <g id=\"matplotlib.axis_2\">\r\n    <g id=\"ytick_1\">\r\n     <g id=\"line2d_3\">\r\n      <defs>\r\n       <path d=\"M 0 0 \r\nL -3.5 0 \r\n\" id=\"m242d3db2ce\" style=\"stroke:#000000;stroke-width:0.8;\"/>\r\n      </defs>\r\n      <g>\r\n       <use style=\"stroke:#000000;stroke-width:0.8;\" x=\"34.240625\" xlink:href=\"#m242d3db2ce\" y=\"61.56\"/>\r\n      </g>\r\n     </g>\r\n     <g id=\"text_4\">\r\n      <!-- 0 -->\r\n      <g transform=\"translate(20.878125 65.359219)scale(0.1 -0.1)\">\r\n       <use xlink:href=\"#DejaVuSans-48\"/>\r\n      </g>\r\n     </g>\r\n    </g>\r\n    <g id=\"ytick_2\">\r\n     <g id=\"line2d_4\">\r\n      <g>\r\n       <use style=\"stroke:#000000;stroke-width:0.8;\" x=\"34.240625\" xlink:href=\"#m242d3db2ce\" y=\"170.28\"/>\r\n      </g>\r\n     </g>\r\n     <g id=\"text_5\">\r\n      <!-- 1 -->\r\n      <g transform=\"translate(20.878125 174.079219)scale(0.1 -0.1)\">\r\n       <use xlink:href=\"#DejaVuSans-49\"/>\r\n      </g>\r\n     </g>\r\n    </g>\r\n    <g id=\"text_6\">\r\n     <!-- True label -->\r\n     <g transform=\"translate(14.798437 140.219219)rotate(-90)scale(0.1 -0.1)\">\r\n      <defs>\r\n       <path d=\"M -0.296875 72.90625 \r\nL 61.375 72.90625 \r\nL 61.375 64.59375 \r\nL 35.5 64.59375 \r\nL 35.5 0 \r\nL 25.59375 0 \r\nL 25.59375 64.59375 \r\nL -0.296875 64.59375 \r\nz\r\n\" id=\"DejaVuSans-84\"/>\r\n       <path d=\"M 8.5 21.578125 \r\nL 8.5 54.6875 \r\nL 17.484375 54.6875 \r\nL 17.484375 21.921875 \r\nQ 17.484375 14.15625 20.5 10.265625 \r\nQ 23.53125 6.390625 29.59375 6.390625 \r\nQ 36.859375 6.390625 41.078125 11.03125 \r\nQ 45.3125 15.671875 45.3125 23.6875 \r\nL 45.3125 54.6875 \r\nL 54.296875 54.6875 \r\nL 54.296875 0 \r\nL 45.3125 0 \r\nL 45.3125 8.40625 \r\nQ 42.046875 3.421875 37.71875 1 \r\nQ 33.40625 -1.421875 27.6875 -1.421875 \r\nQ 18.265625 -1.421875 13.375 4.4375 \r\nQ 8.5 10.296875 8.5 21.578125 \r\nz\r\nM 31.109375 56 \r\nz\r\n\" id=\"DejaVuSans-117\"/>\r\n      </defs>\r\n      <use xlink:href=\"#DejaVuSans-84\"/>\r\n      <use x=\"46.333984\" xlink:href=\"#DejaVuSans-114\"/>\r\n      <use x=\"87.447266\" xlink:href=\"#DejaVuSans-117\"/>\r\n      <use x=\"150.826172\" xlink:href=\"#DejaVuSans-101\"/>\r\n      <use x=\"212.349609\" xlink:href=\"#DejaVuSans-32\"/>\r\n      <use x=\"244.136719\" xlink:href=\"#DejaVuSans-108\"/>\r\n      <use x=\"271.919922\" xlink:href=\"#DejaVuSans-97\"/>\r\n      <use x=\"333.199219\" xlink:href=\"#DejaVuSans-98\"/>\r\n      <use x=\"396.675781\" xlink:href=\"#DejaVuSans-101\"/>\r\n      <use x=\"458.199219\" xlink:href=\"#DejaVuSans-108\"/>\r\n     </g>\r\n    </g>\r\n   </g>\r\n   <g id=\"patch_3\">\r\n    <path d=\"M 34.240625 224.64 \r\nL 34.240625 7.2 \r\n\" style=\"fill:none;stroke:#000000;stroke-linecap:square;stroke-linejoin:miter;stroke-width:0.8;\"/>\r\n   </g>\r\n   <g id=\"patch_4\">\r\n    <path d=\"M 251.680625 224.64 \r\nL 251.680625 7.2 \r\n\" style=\"fill:none;stroke:#000000;stroke-linecap:square;stroke-linejoin:miter;stroke-width:0.8;\"/>\r\n   </g>\r\n   <g id=\"patch_5\">\r\n    <path d=\"M 34.240625 224.64 \r\nL 251.680625 224.64 \r\n\" style=\"fill:none;stroke:#000000;stroke-linecap:square;stroke-linejoin:miter;stroke-width:0.8;\"/>\r\n   </g>\r\n   <g id=\"patch_6\">\r\n    <path d=\"M 34.240625 7.2 \r\nL 251.680625 7.2 \r\n\" style=\"fill:none;stroke:#000000;stroke-linecap:square;stroke-linejoin:miter;stroke-width:0.8;\"/>\r\n   </g>\r\n   <g id=\"text_7\">\r\n    <!--  1687 -->\r\n    <g style=\"fill:#f7fcf5;\" transform=\"translate(74.286562 64.319375)scale(0.1 -0.1)\">\r\n     <defs>\r\n      <path d=\"M 33.015625 40.375 \r\nQ 26.375 40.375 22.484375 35.828125 \r\nQ 18.609375 31.296875 18.609375 23.390625 \r\nQ 18.609375 15.53125 22.484375 10.953125 \r\nQ 26.375 6.390625 33.015625 6.390625 \r\nQ 39.65625 6.390625 43.53125 10.953125 \r\nQ 47.40625 15.53125 47.40625 23.390625 \r\nQ 47.40625 31.296875 43.53125 35.828125 \r\nQ 39.65625 40.375 33.015625 40.375 \r\nz\r\nM 52.59375 71.296875 \r\nL 52.59375 62.3125 \r\nQ 48.875 64.0625 45.09375 64.984375 \r\nQ 41.3125 65.921875 37.59375 65.921875 \r\nQ 27.828125 65.921875 22.671875 59.328125 \r\nQ 17.53125 52.734375 16.796875 39.40625 \r\nQ 19.671875 43.65625 24.015625 45.921875 \r\nQ 28.375 48.1875 33.59375 48.1875 \r\nQ 44.578125 48.1875 50.953125 41.515625 \r\nQ 57.328125 34.859375 57.328125 23.390625 \r\nQ 57.328125 12.15625 50.6875 5.359375 \r\nQ 44.046875 -1.421875 33.015625 -1.421875 \r\nQ 20.359375 -1.421875 13.671875 8.265625 \r\nQ 6.984375 17.96875 6.984375 36.375 \r\nQ 6.984375 53.65625 15.1875 63.9375 \r\nQ 23.390625 74.21875 37.203125 74.21875 \r\nQ 40.921875 74.21875 44.703125 73.484375 \r\nQ 48.484375 72.75 52.59375 71.296875 \r\nz\r\n\" id=\"DejaVuSans-54\"/>\r\n      <path d=\"M 31.78125 34.625 \r\nQ 24.75 34.625 20.71875 30.859375 \r\nQ 16.703125 27.09375 16.703125 20.515625 \r\nQ 16.703125 13.921875 20.71875 10.15625 \r\nQ 24.75 6.390625 31.78125 6.390625 \r\nQ 38.8125 6.390625 42.859375 10.171875 \r\nQ 46.921875 13.96875 46.921875 20.515625 \r\nQ 46.921875 27.09375 42.890625 30.859375 \r\nQ 38.875 34.625 31.78125 34.625 \r\nz\r\nM 21.921875 38.8125 \r\nQ 15.578125 40.375 12.03125 44.71875 \r\nQ 8.5 49.078125 8.5 55.328125 \r\nQ 8.5 64.0625 14.71875 69.140625 \r\nQ 20.953125 74.21875 31.78125 74.21875 \r\nQ 42.671875 74.21875 48.875 69.140625 \r\nQ 55.078125 64.0625 55.078125 55.328125 \r\nQ 55.078125 49.078125 51.53125 44.71875 \r\nQ 48 40.375 41.703125 38.8125 \r\nQ 48.828125 37.15625 52.796875 32.3125 \r\nQ 56.78125 27.484375 56.78125 20.515625 \r\nQ 56.78125 9.90625 50.3125 4.234375 \r\nQ 43.84375 -1.421875 31.78125 -1.421875 \r\nQ 19.734375 -1.421875 13.25 4.234375 \r\nQ 6.78125 9.90625 6.78125 20.515625 \r\nQ 6.78125 27.484375 10.78125 32.3125 \r\nQ 14.796875 37.15625 21.921875 38.8125 \r\nz\r\nM 18.3125 54.390625 \r\nQ 18.3125 48.734375 21.84375 45.5625 \r\nQ 25.390625 42.390625 31.78125 42.390625 \r\nQ 38.140625 42.390625 41.71875 45.5625 \r\nQ 45.3125 48.734375 45.3125 54.390625 \r\nQ 45.3125 60.0625 41.71875 63.234375 \r\nQ 38.140625 66.40625 31.78125 66.40625 \r\nQ 25.390625 66.40625 21.84375 63.234375 \r\nQ 18.3125 60.0625 18.3125 54.390625 \r\nz\r\n\" id=\"DejaVuSans-56\"/>\r\n      <path d=\"M 8.203125 72.90625 \r\nL 55.078125 72.90625 \r\nL 55.078125 68.703125 \r\nL 28.609375 0 \r\nL 18.3125 0 \r\nL 43.21875 64.59375 \r\nL 8.203125 64.59375 \r\nz\r\n\" id=\"DejaVuSans-55\"/>\r\n     </defs>\r\n     <use xlink:href=\"#DejaVuSans-32\"/>\r\n     <use x=\"31.787109\" xlink:href=\"#DejaVuSans-49\"/>\r\n     <use x=\"95.410156\" xlink:href=\"#DejaVuSans-54\"/>\r\n     <use x=\"159.033203\" xlink:href=\"#DejaVuSans-56\"/>\r\n     <use x=\"222.65625\" xlink:href=\"#DejaVuSans-55\"/>\r\n    </g>\r\n   </g>\r\n   <g id=\"text_8\">\r\n    <!--  339 -->\r\n    <g style=\"fill:#00441b;\" transform=\"translate(186.187812 64.319375)scale(0.1 -0.1)\">\r\n     <defs>\r\n      <path d=\"M 40.578125 39.3125 \r\nQ 47.65625 37.796875 51.625 33 \r\nQ 55.609375 28.21875 55.609375 21.1875 \r\nQ 55.609375 10.40625 48.1875 4.484375 \r\nQ 40.765625 -1.421875 27.09375 -1.421875 \r\nQ 22.515625 -1.421875 17.65625 -0.515625 \r\nQ 12.796875 0.390625 7.625 2.203125 \r\nL 7.625 11.71875 \r\nQ 11.71875 9.328125 16.59375 8.109375 \r\nQ 21.484375 6.890625 26.8125 6.890625 \r\nQ 36.078125 6.890625 40.9375 10.546875 \r\nQ 45.796875 14.203125 45.796875 21.1875 \r\nQ 45.796875 27.640625 41.28125 31.265625 \r\nQ 36.765625 34.90625 28.71875 34.90625 \r\nL 20.21875 34.90625 \r\nL 20.21875 43.015625 \r\nL 29.109375 43.015625 \r\nQ 36.375 43.015625 40.234375 45.921875 \r\nQ 44.09375 48.828125 44.09375 54.296875 \r\nQ 44.09375 59.90625 40.109375 62.90625 \r\nQ 36.140625 65.921875 28.71875 65.921875 \r\nQ 24.65625 65.921875 20.015625 65.03125 \r\nQ 15.375 64.15625 9.8125 62.3125 \r\nL 9.8125 71.09375 \r\nQ 15.4375 72.65625 20.34375 73.4375 \r\nQ 25.25 74.21875 29.59375 74.21875 \r\nQ 40.828125 74.21875 47.359375 69.109375 \r\nQ 53.90625 64.015625 53.90625 55.328125 \r\nQ 53.90625 49.265625 50.4375 45.09375 \r\nQ 46.96875 40.921875 40.578125 39.3125 \r\nz\r\n\" id=\"DejaVuSans-51\"/>\r\n      <path d=\"M 10.984375 1.515625 \r\nL 10.984375 10.5 \r\nQ 14.703125 8.734375 18.5 7.8125 \r\nQ 22.3125 6.890625 25.984375 6.890625 \r\nQ 35.75 6.890625 40.890625 13.453125 \r\nQ 46.046875 20.015625 46.78125 33.40625 \r\nQ 43.953125 29.203125 39.59375 26.953125 \r\nQ 35.25 24.703125 29.984375 24.703125 \r\nQ 19.046875 24.703125 12.671875 31.3125 \r\nQ 6.296875 37.9375 6.296875 49.421875 \r\nQ 6.296875 60.640625 12.9375 67.421875 \r\nQ 19.578125 74.21875 30.609375 74.21875 \r\nQ 43.265625 74.21875 49.921875 64.515625 \r\nQ 56.59375 54.828125 56.59375 36.375 \r\nQ 56.59375 19.140625 48.40625 8.859375 \r\nQ 40.234375 -1.421875 26.421875 -1.421875 \r\nQ 22.703125 -1.421875 18.890625 -0.6875 \r\nQ 15.09375 0.046875 10.984375 1.515625 \r\nz\r\nM 30.609375 32.421875 \r\nQ 37.25 32.421875 41.125 36.953125 \r\nQ 45.015625 41.5 45.015625 49.421875 \r\nQ 45.015625 57.28125 41.125 61.84375 \r\nQ 37.25 66.40625 30.609375 66.40625 \r\nQ 23.96875 66.40625 20.09375 61.84375 \r\nQ 16.21875 57.28125 16.21875 49.421875 \r\nQ 16.21875 41.5 20.09375 36.953125 \r\nQ 23.96875 32.421875 30.609375 32.421875 \r\nz\r\n\" id=\"DejaVuSans-57\"/>\r\n     </defs>\r\n     <use xlink:href=\"#DejaVuSans-32\"/>\r\n     <use x=\"31.787109\" xlink:href=\"#DejaVuSans-51\"/>\r\n     <use x=\"95.410156\" xlink:href=\"#DejaVuSans-51\"/>\r\n     <use x=\"159.033203\" xlink:href=\"#DejaVuSans-57\"/>\r\n    </g>\r\n   </g>\r\n   <g id=\"text_9\">\r\n    <!--  508 -->\r\n    <g style=\"fill:#00441b;\" transform=\"translate(77.467812 173.039375)scale(0.1 -0.1)\">\r\n     <defs>\r\n      <path d=\"M 10.796875 72.90625 \r\nL 49.515625 72.90625 \r\nL 49.515625 64.59375 \r\nL 19.828125 64.59375 \r\nL 19.828125 46.734375 \r\nQ 21.96875 47.46875 24.109375 47.828125 \r\nQ 26.265625 48.1875 28.421875 48.1875 \r\nQ 40.625 48.1875 47.75 41.5 \r\nQ 54.890625 34.8125 54.890625 23.390625 \r\nQ 54.890625 11.625 47.5625 5.09375 \r\nQ 40.234375 -1.421875 26.90625 -1.421875 \r\nQ 22.3125 -1.421875 17.546875 -0.640625 \r\nQ 12.796875 0.140625 7.71875 1.703125 \r\nL 7.71875 11.625 \r\nQ 12.109375 9.234375 16.796875 8.0625 \r\nQ 21.484375 6.890625 26.703125 6.890625 \r\nQ 35.15625 6.890625 40.078125 11.328125 \r\nQ 45.015625 15.765625 45.015625 23.390625 \r\nQ 45.015625 31 40.078125 35.4375 \r\nQ 35.15625 39.890625 26.703125 39.890625 \r\nQ 22.75 39.890625 18.8125 39.015625 \r\nQ 14.890625 38.140625 10.796875 36.28125 \r\nz\r\n\" id=\"DejaVuSans-53\"/>\r\n     </defs>\r\n     <use xlink:href=\"#DejaVuSans-32\"/>\r\n     <use x=\"31.787109\" xlink:href=\"#DejaVuSans-53\"/>\r\n     <use x=\"95.410156\" xlink:href=\"#DejaVuSans-48\"/>\r\n     <use x=\"159.033203\" xlink:href=\"#DejaVuSans-56\"/>\r\n    </g>\r\n   </g>\r\n   <g id=\"text_10\">\r\n    <!--  622 -->\r\n    <g style=\"fill:#00441b;\" transform=\"translate(186.187812 173.039375)scale(0.1 -0.1)\">\r\n     <defs>\r\n      <path d=\"M 19.1875 8.296875 \r\nL 53.609375 8.296875 \r\nL 53.609375 0 \r\nL 7.328125 0 \r\nL 7.328125 8.296875 \r\nQ 12.9375 14.109375 22.625 23.890625 \r\nQ 32.328125 33.6875 34.8125 36.53125 \r\nQ 39.546875 41.84375 41.421875 45.53125 \r\nQ 43.3125 49.21875 43.3125 52.78125 \r\nQ 43.3125 58.59375 39.234375 62.25 \r\nQ 35.15625 65.921875 28.609375 65.921875 \r\nQ 23.96875 65.921875 18.8125 64.3125 \r\nQ 13.671875 62.703125 7.8125 59.421875 \r\nL 7.8125 69.390625 \r\nQ 13.765625 71.78125 18.9375 73 \r\nQ 24.125 74.21875 28.421875 74.21875 \r\nQ 39.75 74.21875 46.484375 68.546875 \r\nQ 53.21875 62.890625 53.21875 53.421875 \r\nQ 53.21875 48.921875 51.53125 44.890625 \r\nQ 49.859375 40.875 45.40625 35.40625 \r\nQ 44.1875 33.984375 37.640625 27.21875 \r\nQ 31.109375 20.453125 19.1875 8.296875 \r\nz\r\n\" id=\"DejaVuSans-50\"/>\r\n     </defs>\r\n     <use xlink:href=\"#DejaVuSans-32\"/>\r\n     <use x=\"31.787109\" xlink:href=\"#DejaVuSans-54\"/>\r\n     <use x=\"95.410156\" xlink:href=\"#DejaVuSans-50\"/>\r\n     <use x=\"159.033203\" xlink:href=\"#DejaVuSans-50\"/>\r\n    </g>\r\n   </g>\r\n  </g>\r\n  <g id=\"axes_2\">\r\n   <g id=\"patch_7\">\r\n    <path clip-path=\"url(#p35db4790d8)\" d=\"M 268.420625 224.64 \r\nL 268.420625 223.790625 \r\nL 268.420625 8.049375 \r\nL 268.420625 7.2 \r\nL 279.292625 7.2 \r\nL 279.292625 8.049375 \r\nL 279.292625 223.790625 \r\nL 279.292625 224.64 \r\nz\r\n\" style=\"fill:#ffffff;stroke:#ffffff;stroke-linejoin:miter;stroke-width:0.01;\"/>\r\n   </g>\r\n   <image height=\"217\" id=\"image248bf73800\" transform=\"scale(1 -1)translate(0 -217)\" width=\"11\" x=\"268\" xlink:href=\"data:image/png;base64,\r\niVBORw0KGgoAAAANSUhEUgAAAAsAAADZCAYAAAD2WsoCAAABMUlEQVR4nO2YMQ4CMQwEDbr/vxZR4YSazoM00gaRemWN7bVzudvz9dg1PPepsKrq2nsBMYlcNZdfexOxh6ExQ4z5YZGXyDwXU4takVfNze8x/73xKWarACWIdl0Es4jhVePA0jFvZDAjDLLrxAQro3Reu0PqjCI3WwX/BL/EgBb1IjeIzMyfsfkRM6nGiQn2ge32zN+LVCNjYL12M+YMb6RUI8X84LbqZX3zhxgJJWgyz4/ojfZcp0WG5p8f0RseM2s3SpBgiOvr980/1tLfhggDcIjXMRSPtXUtdLVlMHsYXrvZD5wj2w0wQiYlZrrHWrUa7OfeWGteE2e2O8Ib7FHjWTTjwRviDTgpYy3c/KAn8GorUmcRozMwwHMCRkbMrBoaBvPGge0Wq0Eih7Q7YlLe15cF1maj/WkAAAAASUVORK5CYII=\" y=\"-7\"/>\r\n   <g id=\"matplotlib.axis_3\"/>\r\n   <g id=\"matplotlib.axis_4\">\r\n    <g id=\"ytick_3\">\r\n     <g id=\"line2d_5\">\r\n      <defs>\r\n       <path d=\"M 0 0 \r\nL 3.5 0 \r\n\" id=\"me1980e60e3\" style=\"stroke:#000000;stroke-width:0.8;\"/>\r\n      </defs>\r\n      <g>\r\n       <use style=\"stroke:#000000;stroke-width:0.8;\" x=\"279.292625\" xlink:href=\"#me1980e60e3\" y=\"214.800356\"/>\r\n      </g>\r\n     </g>\r\n     <g id=\"text_11\">\r\n      <!-- 400 -->\r\n      <g transform=\"translate(286.292625 218.599575)scale(0.1 -0.1)\">\r\n       <defs>\r\n        <path d=\"M 37.796875 64.3125 \r\nL 12.890625 25.390625 \r\nL 37.796875 25.390625 \r\nz\r\nM 35.203125 72.90625 \r\nL 47.609375 72.90625 \r\nL 47.609375 25.390625 \r\nL 58.015625 25.390625 \r\nL 58.015625 17.1875 \r\nL 47.609375 17.1875 \r\nL 47.609375 0 \r\nL 37.796875 0 \r\nL 37.796875 17.1875 \r\nL 4.890625 17.1875 \r\nL 4.890625 26.703125 \r\nz\r\n\" id=\"DejaVuSans-52\"/>\r\n       </defs>\r\n       <use xlink:href=\"#DejaVuSans-52\"/>\r\n       <use x=\"63.623047\" xlink:href=\"#DejaVuSans-48\"/>\r\n       <use x=\"127.246094\" xlink:href=\"#DejaVuSans-48\"/>\r\n      </g>\r\n     </g>\r\n    </g>\r\n    <g id=\"ytick_4\">\r\n     <g id=\"line2d_6\">\r\n      <g>\r\n       <use style=\"stroke:#000000;stroke-width:0.8;\" x=\"279.292625\" xlink:href=\"#me1980e60e3\" y=\"182.539228\"/>\r\n      </g>\r\n     </g>\r\n     <g id=\"text_12\">\r\n      <!-- 600 -->\r\n      <g transform=\"translate(286.292625 186.338447)scale(0.1 -0.1)\">\r\n       <use xlink:href=\"#DejaVuSans-54\"/>\r\n       <use x=\"63.623047\" xlink:href=\"#DejaVuSans-48\"/>\r\n       <use x=\"127.246094\" xlink:href=\"#DejaVuSans-48\"/>\r\n      </g>\r\n     </g>\r\n    </g>\r\n    <g id=\"ytick_5\">\r\n     <g id=\"line2d_7\">\r\n      <g>\r\n       <use style=\"stroke:#000000;stroke-width:0.8;\" x=\"279.292625\" xlink:href=\"#me1980e60e3\" y=\"150.278101\"/>\r\n      </g>\r\n     </g>\r\n     <g id=\"text_13\">\r\n      <!-- 800 -->\r\n      <g transform=\"translate(286.292625 154.07732)scale(0.1 -0.1)\">\r\n       <use xlink:href=\"#DejaVuSans-56\"/>\r\n       <use x=\"63.623047\" xlink:href=\"#DejaVuSans-48\"/>\r\n       <use x=\"127.246094\" xlink:href=\"#DejaVuSans-48\"/>\r\n      </g>\r\n     </g>\r\n    </g>\r\n    <g id=\"ytick_6\">\r\n     <g id=\"line2d_8\">\r\n      <g>\r\n       <use style=\"stroke:#000000;stroke-width:0.8;\" x=\"279.292625\" xlink:href=\"#me1980e60e3\" y=\"118.016973\"/>\r\n      </g>\r\n     </g>\r\n     <g id=\"text_14\">\r\n      <!-- 1000 -->\r\n      <g transform=\"translate(286.292625 121.816192)scale(0.1 -0.1)\">\r\n       <use xlink:href=\"#DejaVuSans-49\"/>\r\n       <use x=\"63.623047\" xlink:href=\"#DejaVuSans-48\"/>\r\n       <use x=\"127.246094\" xlink:href=\"#DejaVuSans-48\"/>\r\n       <use x=\"190.869141\" xlink:href=\"#DejaVuSans-48\"/>\r\n      </g>\r\n     </g>\r\n    </g>\r\n    <g id=\"ytick_7\">\r\n     <g id=\"line2d_9\">\r\n      <g>\r\n       <use style=\"stroke:#000000;stroke-width:0.8;\" x=\"279.292625\" xlink:href=\"#me1980e60e3\" y=\"85.755846\"/>\r\n      </g>\r\n     </g>\r\n     <g id=\"text_15\">\r\n      <!-- 1200 -->\r\n      <g transform=\"translate(286.292625 89.555064)scale(0.1 -0.1)\">\r\n       <use xlink:href=\"#DejaVuSans-49\"/>\r\n       <use x=\"63.623047\" xlink:href=\"#DejaVuSans-50\"/>\r\n       <use x=\"127.246094\" xlink:href=\"#DejaVuSans-48\"/>\r\n       <use x=\"190.869141\" xlink:href=\"#DejaVuSans-48\"/>\r\n      </g>\r\n     </g>\r\n    </g>\r\n    <g id=\"ytick_8\">\r\n     <g id=\"line2d_10\">\r\n      <g>\r\n       <use style=\"stroke:#000000;stroke-width:0.8;\" x=\"279.292625\" xlink:href=\"#me1980e60e3\" y=\"53.494718\"/>\r\n      </g>\r\n     </g>\r\n     <g id=\"text_16\">\r\n      <!-- 1400 -->\r\n      <g transform=\"translate(286.292625 57.293937)scale(0.1 -0.1)\">\r\n       <use xlink:href=\"#DejaVuSans-49\"/>\r\n       <use x=\"63.623047\" xlink:href=\"#DejaVuSans-52\"/>\r\n       <use x=\"127.246094\" xlink:href=\"#DejaVuSans-48\"/>\r\n       <use x=\"190.869141\" xlink:href=\"#DejaVuSans-48\"/>\r\n      </g>\r\n     </g>\r\n    </g>\r\n    <g id=\"ytick_9\">\r\n     <g id=\"line2d_11\">\r\n      <g>\r\n       <use style=\"stroke:#000000;stroke-width:0.8;\" x=\"279.292625\" xlink:href=\"#me1980e60e3\" y=\"21.233591\"/>\r\n      </g>\r\n     </g>\r\n     <g id=\"text_17\">\r\n      <!-- 1600 -->\r\n      <g transform=\"translate(286.292625 25.032809)scale(0.1 -0.1)\">\r\n       <use xlink:href=\"#DejaVuSans-49\"/>\r\n       <use x=\"63.623047\" xlink:href=\"#DejaVuSans-54\"/>\r\n       <use x=\"127.246094\" xlink:href=\"#DejaVuSans-48\"/>\r\n       <use x=\"190.869141\" xlink:href=\"#DejaVuSans-48\"/>\r\n      </g>\r\n     </g>\r\n    </g>\r\n   </g>\r\n   <g id=\"patch_8\">\r\n    <path d=\"M 268.420625 224.64 \r\nL 268.420625 223.790625 \r\nL 268.420625 8.049375 \r\nL 268.420625 7.2 \r\nL 279.292625 7.2 \r\nL 279.292625 8.049375 \r\nL 279.292625 223.790625 \r\nL 279.292625 224.64 \r\nz\r\n\" style=\"fill:none;stroke:#000000;stroke-linejoin:miter;stroke-width:0.8;\"/>\r\n   </g>\r\n  </g>\r\n </g>\r\n <defs>\r\n  <clipPath id=\"pc1d0768474\">\r\n   <rect height=\"217.44\" width=\"217.44\" x=\"34.240625\" y=\"7.2\"/>\r\n  </clipPath>\r\n  <clipPath id=\"p35db4790d8\">\r\n   <rect height=\"217.44\" width=\"10.872\" x=\"268.420625\" y=\"7.2\"/>\r\n  </clipPath>\r\n </defs>\r\n</svg>\r\n",
      "image/png": "[encoded data removed]"
     },
     "metadata": {
      "needs_background": "light"
     }
    }
   ],
   "source": [
    "plot_confusion_matrix(pl, X_test, y_test, cmap='Greens', values_format=' ')\n",
    "plt.grid(False)"
   ]
  },
  {
   "cell_type": "code",
   "execution_count": 42,
   "metadata": {},
   "outputs": [
    {
     "output_type": "execute_result",
     "data": {
      "text/plain": "array([9.992633e-01, 7.367086e-04], dtype=float32)"
     },
     "metadata": {},
     "execution_count": 42
    }
   ],
   "source": [
    "\n",
    "pl.predict_proba(X_test)[160] "
   ]
  },
  {
   "cell_type": "code",
   "execution_count": 52,
   "metadata": {},
   "outputs": [
    {
     "output_type": "error",
     "ename": "PicklingError",
     "evalue": "Can't pickle <function <lambda> at 0x0000015AA8511AE8>: attribute lookup <lambda> on __main__ failed",
     "traceback": [
      "\u001b[1;31m---------------------------------------------------------------------------\u001b[0m",
      "\u001b[1;31mPicklingError\u001b[0m                             Traceback (most recent call last)",
      "\u001b[1;32m<ipython-input-52-227a0037c385>\u001b[0m in \u001b[0;36m<module>\u001b[1;34m\u001b[0m\n\u001b[0;32m      5\u001b[0m \u001b[1;33m\u001b[0m\u001b[0m\n\u001b[0;32m      6\u001b[0m \u001b[1;33m\u001b[0m\u001b[0m\n\u001b[1;32m----> 7\u001b[1;33m \u001b[0mpickle\u001b[0m\u001b[1;33m.\u001b[0m\u001b[0mdump\u001b[0m\u001b[1;33m(\u001b[0m\u001b[0mpl\u001b[0m\u001b[1;33m,\u001b[0m \u001b[0mopen\u001b[0m\u001b[1;33m(\u001b[0m \u001b[1;34m\"multi_modeler.pkl\"\u001b[0m\u001b[1;33m,\u001b[0m \u001b[1;34m\"wb\"\u001b[0m \u001b[1;33m)\u001b[0m \u001b[1;33m)\u001b[0m\u001b[1;33m\u001b[0m\u001b[0m\n\u001b[0m\u001b[0;32m      8\u001b[0m \u001b[1;31m#joblib.dump(pl, 'job_multi_model.pkl')\u001b[0m\u001b[1;33m\u001b[0m\u001b[1;33m\u001b[0m\u001b[0m\n\u001b[0;32m      9\u001b[0m \u001b[1;33m\u001b[0m\u001b[0m\n",
      "\u001b[1;31mPicklingError\u001b[0m: Can't pickle <function <lambda> at 0x0000015AA8511AE8>: attribute lookup <lambda> on __main__ failed"
     ]
    }
   ],
   "source": [
    "import dill\n",
    "import joblib\n",
    "import pickle\n",
    "\n",
    "\n",
    "\n",
    "pickle.dump(pl, open( \"multi_modeler.pkl\", \"wb\" ) )\n",
    "#joblib.dump(pl, 'job_multi_model.pkl')\n",
    "\n"
   ]
  },
  {
   "cell_type": "code",
   "execution_count": 44,
   "metadata": {},
   "outputs": [],
   "source": [
    "model = dill.load(open('multi_model.pkl', 'rb'))"
   ]
  },
  {
   "cell_type": "code",
   "execution_count": 53,
   "metadata": {},
   "outputs": [
    {
     "output_type": "execute_result",
     "data": {
      "text/plain": "array([[0.08665264, 0.91334736],\n       [0.09759986, 0.90240014],\n       [0.87766546, 0.12233453],\n       ...,\n       [0.70963955, 0.29036042],\n       [0.99551594, 0.00448406],\n       [0.98179746, 0.01820252]], dtype=float32)"
     },
     "metadata": {},
     "execution_count": 53
    }
   ],
   "source": [
    "model.predict_proba(X_test)"
   ]
  },
  {
   "cell_type": "code",
   "execution_count": 46,
   "metadata": {},
   "outputs": [
    {
     "output_type": "execute_result",
     "data": {
      "text/plain": "          goal  cam_length                                               text\n12083   6000.0          28  Bot Bash Parties Robot Battle Kits After winni...\n2703    1000.0          29  Fandom Hearts 2 - A Fanmade Kingdom Hearts Par...\n9700    5000.0          29  Developing Android Live Wallpaper Write a book...\n9770    3000.0          29  Taking ToGather mobile App to the NEXT LEVEL T...\n14297  60000.0          29  Brewometer: Wireless Hydrometer and Thermomete...\n...        ...         ...                                                ...\n1065     800.0          29  Super Date, The Dating Game Show for Superhero...\n2019     250.0          29  The AOA Presents: The Maiden of Orleans The Ar...\n9939   15000.0          82  Open Astronomical Image Processing GUI Astrono...\n4988    1000.0          29  JobFinder.Ninja The Freelance website to end a...\n15873  48000.0          29  Tibio - Spreading warmth in everyones home Tib...\n\n[3156 rows x 3 columns]",
      "text/html": "<div>\n<style scoped>\n    .dataframe tbody tr th:only-of-type {\n        vertical-align: middle;\n    }\n\n    .dataframe tbody tr th {\n        vertical-align: top;\n    }\n\n    .dataframe thead th {\n        text-align: right;\n    }\n</style>\n<table border=\"1\" class=\"dataframe\">\n  <thead>\n    <tr style=\"text-align: right;\">\n      <th></th>\n      <th>goal</th>\n      <th>cam_length</th>\n      <th>text</th>\n    </tr>\n  </thead>\n  <tbody>\n    <tr>\n      <th>12083</th>\n      <td>6000.0</td>\n      <td>28</td>\n      <td>Bot Bash Parties Robot Battle Kits After winni...</td>\n    </tr>\n    <tr>\n      <th>2703</th>\n      <td>1000.0</td>\n      <td>29</td>\n      <td>Fandom Hearts 2 - A Fanmade Kingdom Hearts Par...</td>\n    </tr>\n    <tr>\n      <th>9700</th>\n      <td>5000.0</td>\n      <td>29</td>\n      <td>Developing Android Live Wallpaper Write a book...</td>\n    </tr>\n    <tr>\n      <th>9770</th>\n      <td>3000.0</td>\n      <td>29</td>\n      <td>Taking ToGather mobile App to the NEXT LEVEL T...</td>\n    </tr>\n    <tr>\n      <th>14297</th>\n      <td>60000.0</td>\n      <td>29</td>\n      <td>Brewometer: Wireless Hydrometer and Thermomete...</td>\n    </tr>\n    <tr>\n      <th>...</th>\n      <td>...</td>\n      <td>...</td>\n      <td>...</td>\n    </tr>\n    <tr>\n      <th>1065</th>\n      <td>800.0</td>\n      <td>29</td>\n      <td>Super Date, The Dating Game Show for Superhero...</td>\n    </tr>\n    <tr>\n      <th>2019</th>\n      <td>250.0</td>\n      <td>29</td>\n      <td>The AOA Presents: The Maiden of Orleans The Ar...</td>\n    </tr>\n    <tr>\n      <th>9939</th>\n      <td>15000.0</td>\n      <td>82</td>\n      <td>Open Astronomical Image Processing GUI Astrono...</td>\n    </tr>\n    <tr>\n      <th>4988</th>\n      <td>1000.0</td>\n      <td>29</td>\n      <td>JobFinder.Ninja The Freelance website to end a...</td>\n    </tr>\n    <tr>\n      <th>15873</th>\n      <td>48000.0</td>\n      <td>29</td>\n      <td>Tibio - Spreading warmth in everyones home Tib...</td>\n    </tr>\n  </tbody>\n</table>\n<p>3156 rows × 3 columns</p>\n</div>"
     },
     "metadata": {},
     "execution_count": 46
    }
   ],
   "source": [
    "X_test"
   ]
  },
  {
   "cell_type": "code",
   "execution_count": null,
   "metadata": {},
   "outputs": [],
   "source": []
  }
 ]
}